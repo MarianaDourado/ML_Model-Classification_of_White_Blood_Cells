{
  "cells": [
    {
      "cell_type": "markdown",
      "metadata": {
        "id": "_7MXYVOH8B_u"
      },
      "source": [
        "## Instalação de pacotes"
      ]
    },
    {
      "cell_type": "code",
      "execution_count": null,
      "metadata": {
        "colab": {
          "background_save": true
        },
        "id": "I-b2ORciwxm2",
        "outputId": "e685d457-b3db-4835-e467-efc0da34ab04"
      },
      "outputs": [
        {
          "name": "stdout",
          "output_type": "stream",
          "text": [
            "Mounted at /content/drive\n"
          ]
        }
      ],
      "source": [
        "from google.colab import drive\n",
        "drive.mount('/content/drive')"
      ]
    },
    {
      "cell_type": "code",
      "execution_count": null,
      "metadata": {
        "colab": {
          "background_save": true
        },
        "id": "cEM3NhKCwb0Q",
        "outputId": "34d0074b-f80a-4fd8-b2ce-d6c0fcb0883b"
      },
      "outputs": [
        {
          "name": "stdout",
          "output_type": "stream",
          "text": [
            "unzip:  cannot find or open /content/drive/path/input_file_name.zip, /content/drive/path/input_file_name.zip.zip or /content/drive/path/input_file_name.zip.ZIP.\n"
          ]
        }
      ],
      "source": [
        "!unzip \"/content/drive/path/input_file_name.zip\" -d \"/content/drive/path/output_folder/\""
      ]
    },
    {
      "cell_type": "code",
      "execution_count": null,
      "metadata": {
        "colab": {
          "background_save": true
        },
        "id": "cQ1wZgV5PGT6",
        "outputId": "0b1d3a67-c640-4920-dea8-bf617943038e"
      },
      "outputs": [
        {
          "name": "stdout",
          "output_type": "stream",
          "text": [
            "Looking in indexes: https://pypi.org/simple, https://us-python.pkg.dev/colab-wheels/public/simple/\n",
            "Collecting git+https://github.com/qubvel/classification_models.git\n",
            "  Cloning https://github.com/qubvel/classification_models.git to /tmp/pip-req-build-6x94dwor\n",
            "  Running command git clone -q https://github.com/qubvel/classification_models.git /tmp/pip-req-build-6x94dwor\n",
            "  Running command git submodule update --init --recursive -q\n",
            "Collecting keras_applications<=1.0.8,>=1.0.7\n",
            "  Downloading Keras_Applications-1.0.8-py3-none-any.whl (50 kB)\n",
            "\u001b[K     |████████████████████████████████| 50 kB 3.2 MB/s \n",
            "\u001b[?25hRequirement already satisfied: h5py in /usr/local/lib/python3.7/dist-packages (from keras_applications<=1.0.8,>=1.0.7->image-classifiers==1.0.0) (3.1.0)\n",
            "Requirement already satisfied: numpy>=1.9.1 in /usr/local/lib/python3.7/dist-packages (from keras_applications<=1.0.8,>=1.0.7->image-classifiers==1.0.0) (1.21.6)\n",
            "Requirement already satisfied: cached-property in /usr/local/lib/python3.7/dist-packages (from h5py->keras_applications<=1.0.8,>=1.0.7->image-classifiers==1.0.0) (1.5.2)\n",
            "Building wheels for collected packages: image-classifiers\n",
            "  Building wheel for image-classifiers (setup.py) ... \u001b[?25l\u001b[?25hdone\n",
            "  Created wheel for image-classifiers: filename=image_classifiers-1.0.0-py3-none-any.whl size=20046 sha256=5049e1920c5186a54c344fd9eda651bc1b3dc4fc3443c2caca4d0f58215a0281\n",
            "  Stored in directory: /tmp/pip-ephem-wheel-cache-a4tgs3c7/wheels/0b/96/56/27b17c903efc647c51e4f364bfc20aa67f8d3dccad63c4fb4e\n",
            "Successfully built image-classifiers\n",
            "Installing collected packages: keras-applications, image-classifiers\n",
            "Successfully installed image-classifiers-1.0.0 keras-applications-1.0.8\n"
          ]
        }
      ],
      "source": [
        "!pip install git+https://github.com/qubvel/classification_models.git"
      ]
    },
    {
      "cell_type": "code",
      "execution_count": null,
      "metadata": {
        "colab": {
          "background_save": true
        },
        "id": "M_R3g3DzSY_p",
        "outputId": "bb6fe7d5-2e7d-4a82-944b-deb43f38c330"
      },
      "outputs": [
        {
          "name": "stdout",
          "output_type": "stream",
          "text": [
            "Looking in indexes: https://pypi.org/simple, https://us-python.pkg.dev/colab-wheels/public/simple/\n",
            "Requirement already satisfied: tensorflow in /usr/local/lib/python3.7/dist-packages (2.8.2+zzzcolab20220719082949)\n",
            "Requirement already satisfied: libclang>=9.0.1 in /usr/local/lib/python3.7/dist-packages (from tensorflow) (14.0.6)\n",
            "Requirement already satisfied: keras-preprocessing>=1.1.1 in /usr/local/lib/python3.7/dist-packages (from tensorflow) (1.1.2)\n",
            "Requirement already satisfied: setuptools in /usr/local/lib/python3.7/dist-packages (from tensorflow) (57.4.0)\n",
            "Requirement already satisfied: protobuf<3.20,>=3.9.2 in /usr/local/lib/python3.7/dist-packages (from tensorflow) (3.17.3)\n",
            "Requirement already satisfied: typing-extensions>=3.6.6 in /usr/local/lib/python3.7/dist-packages (from tensorflow) (4.1.1)\n",
            "Requirement already satisfied: google-pasta>=0.1.1 in /usr/local/lib/python3.7/dist-packages (from tensorflow) (0.2.0)\n",
            "Requirement already satisfied: tensorflow-estimator<2.9,>=2.8 in /usr/local/lib/python3.7/dist-packages (from tensorflow) (2.8.0)\n",
            "Requirement already satisfied: numpy>=1.20 in /usr/local/lib/python3.7/dist-packages (from tensorflow) (1.21.6)\n",
            "Requirement already satisfied: h5py>=2.9.0 in /usr/local/lib/python3.7/dist-packages (from tensorflow) (3.1.0)\n",
            "Requirement already satisfied: termcolor>=1.1.0 in /usr/local/lib/python3.7/dist-packages (from tensorflow) (1.1.0)\n",
            "Requirement already satisfied: opt-einsum>=2.3.2 in /usr/local/lib/python3.7/dist-packages (from tensorflow) (3.3.0)\n",
            "Requirement already satisfied: gast>=0.2.1 in /usr/local/lib/python3.7/dist-packages (from tensorflow) (0.5.3)\n",
            "Requirement already satisfied: tensorboard<2.9,>=2.8 in /usr/local/lib/python3.7/dist-packages (from tensorflow) (2.8.0)\n",
            "Requirement already satisfied: flatbuffers>=1.12 in /usr/local/lib/python3.7/dist-packages (from tensorflow) (2.0)\n",
            "Requirement already satisfied: wrapt>=1.11.0 in /usr/local/lib/python3.7/dist-packages (from tensorflow) (1.14.1)\n",
            "Requirement already satisfied: grpcio<2.0,>=1.24.3 in /usr/local/lib/python3.7/dist-packages (from tensorflow) (1.47.0)\n",
            "Requirement already satisfied: tensorflow-io-gcs-filesystem>=0.23.1 in /usr/local/lib/python3.7/dist-packages (from tensorflow) (0.26.0)\n",
            "Requirement already satisfied: keras<2.9,>=2.8.0rc0 in /usr/local/lib/python3.7/dist-packages (from tensorflow) (2.8.0)\n",
            "Requirement already satisfied: six>=1.12.0 in /usr/local/lib/python3.7/dist-packages (from tensorflow) (1.15.0)\n",
            "Requirement already satisfied: astunparse>=1.6.0 in /usr/local/lib/python3.7/dist-packages (from tensorflow) (1.6.3)\n",
            "Requirement already satisfied: absl-py>=0.4.0 in /usr/local/lib/python3.7/dist-packages (from tensorflow) (1.2.0)\n",
            "Requirement already satisfied: wheel<1.0,>=0.23.0 in /usr/local/lib/python3.7/dist-packages (from astunparse>=1.6.0->tensorflow) (0.37.1)\n",
            "Requirement already satisfied: cached-property in /usr/local/lib/python3.7/dist-packages (from h5py>=2.9.0->tensorflow) (1.5.2)\n",
            "Requirement already satisfied: requests<3,>=2.21.0 in /usr/local/lib/python3.7/dist-packages (from tensorboard<2.9,>=2.8->tensorflow) (2.23.0)\n",
            "Requirement already satisfied: tensorboard-data-server<0.7.0,>=0.6.0 in /usr/local/lib/python3.7/dist-packages (from tensorboard<2.9,>=2.8->tensorflow) (0.6.1)\n",
            "Requirement already satisfied: tensorboard-plugin-wit>=1.6.0 in /usr/local/lib/python3.7/dist-packages (from tensorboard<2.9,>=2.8->tensorflow) (1.8.1)\n",
            "Requirement already satisfied: markdown>=2.6.8 in /usr/local/lib/python3.7/dist-packages (from tensorboard<2.9,>=2.8->tensorflow) (3.4.1)\n",
            "Requirement already satisfied: werkzeug>=0.11.15 in /usr/local/lib/python3.7/dist-packages (from tensorboard<2.9,>=2.8->tensorflow) (1.0.1)\n",
            "Requirement already satisfied: google-auth-oauthlib<0.5,>=0.4.1 in /usr/local/lib/python3.7/dist-packages (from tensorboard<2.9,>=2.8->tensorflow) (0.4.6)\n",
            "Requirement already satisfied: google-auth<3,>=1.6.3 in /usr/local/lib/python3.7/dist-packages (from tensorboard<2.9,>=2.8->tensorflow) (1.35.0)\n",
            "Requirement already satisfied: rsa<5,>=3.1.4 in /usr/local/lib/python3.7/dist-packages (from google-auth<3,>=1.6.3->tensorboard<2.9,>=2.8->tensorflow) (4.9)\n",
            "Requirement already satisfied: pyasn1-modules>=0.2.1 in /usr/local/lib/python3.7/dist-packages (from google-auth<3,>=1.6.3->tensorboard<2.9,>=2.8->tensorflow) (0.2.8)\n",
            "Requirement already satisfied: cachetools<5.0,>=2.0.0 in /usr/local/lib/python3.7/dist-packages (from google-auth<3,>=1.6.3->tensorboard<2.9,>=2.8->tensorflow) (4.2.4)\n",
            "Requirement already satisfied: requests-oauthlib>=0.7.0 in /usr/local/lib/python3.7/dist-packages (from google-auth-oauthlib<0.5,>=0.4.1->tensorboard<2.9,>=2.8->tensorflow) (1.3.1)\n",
            "Requirement already satisfied: importlib-metadata>=4.4 in /usr/local/lib/python3.7/dist-packages (from markdown>=2.6.8->tensorboard<2.9,>=2.8->tensorflow) (4.12.0)\n",
            "Requirement already satisfied: zipp>=0.5 in /usr/local/lib/python3.7/dist-packages (from importlib-metadata>=4.4->markdown>=2.6.8->tensorboard<2.9,>=2.8->tensorflow) (3.8.1)\n",
            "Requirement already satisfied: pyasn1<0.5.0,>=0.4.6 in /usr/local/lib/python3.7/dist-packages (from pyasn1-modules>=0.2.1->google-auth<3,>=1.6.3->tensorboard<2.9,>=2.8->tensorflow) (0.4.8)\n",
            "Requirement already satisfied: idna<3,>=2.5 in /usr/local/lib/python3.7/dist-packages (from requests<3,>=2.21.0->tensorboard<2.9,>=2.8->tensorflow) (2.10)\n",
            "Requirement already satisfied: chardet<4,>=3.0.2 in /usr/local/lib/python3.7/dist-packages (from requests<3,>=2.21.0->tensorboard<2.9,>=2.8->tensorflow) (3.0.4)\n",
            "Requirement already satisfied: urllib3!=1.25.0,!=1.25.1,<1.26,>=1.21.1 in /usr/local/lib/python3.7/dist-packages (from requests<3,>=2.21.0->tensorboard<2.9,>=2.8->tensorflow) (1.24.3)\n",
            "Requirement already satisfied: certifi>=2017.4.17 in /usr/local/lib/python3.7/dist-packages (from requests<3,>=2.21.0->tensorboard<2.9,>=2.8->tensorflow) (2022.6.15)\n",
            "Requirement already satisfied: oauthlib>=3.0.0 in /usr/local/lib/python3.7/dist-packages (from requests-oauthlib>=0.7.0->google-auth-oauthlib<0.5,>=0.4.1->tensorboard<2.9,>=2.8->tensorflow) (3.2.0)\n"
          ]
        }
      ],
      "source": [
        "!pip install tensorflow"
      ]
    },
    {
      "cell_type": "code",
      "execution_count": null,
      "metadata": {
        "id": "Y-5ifOO9TWDO"
      },
      "outputs": [],
      "source": [
        "pip install Keras-Applications"
      ]
    },
    {
      "cell_type": "markdown",
      "metadata": {
        "id": "3x0AGuC-8F9Q"
      },
      "source": [
        "## Import de bibliotecas e definição da função"
      ]
    },
    {
      "cell_type": "code",
      "execution_count": null,
      "metadata": {
        "id": "i9S8WC3bxD9k"
      },
      "outputs": [],
      "source": [
        "import numpy as np\n",
        "import matplotlib.pyplot as plt\n",
        "from sklearn.model_selection import train_test_split\n",
        "from sklearn.svm import SVC\n",
        "from sklearn.preprocessing import StandardScaler, MinMaxScaler\n",
        "from sklearn.metrics import confusion_matrix, accuracy_score, f1_score, precision_score, recall_score, classification_report\n",
        "from glob import glob # Navegar sobre repositórios\n",
        "import cv2\n",
        "import os\n",
        "from google.colab.patches import cv2_imshow\n",
        "import numpy as np\n",
        "from sys import stdout\n",
        "from classification_models.models.resnet import ResNet18, preprocess_input\n",
        "import tensorflow as tf\n",
        "import keras\n",
        "from tensorflow.keras.layers import Dense, GlobalAvgPool2D, Flatten, Dropout\n",
        "from tensorflow.keras.models import Model\n",
        "import keras.backend as K\n",
        "from tensorflow.keras.callbacks import ModelCheckpoint, EarlyStopping\n",
        "\n",
        "\n",
        "\n",
        "\n",
        "# Definir o caminho onde o dataset se encontra\n",
        "base_path = '/content/drive/MyDrive/WBC_C-SVM/Dataset/PBC_dataset_normal_DIB'\n",
        "\n",
        "\n",
        "\n",
        "def images2matrix(folder, shape):\n",
        "  \"\"\"\n",
        "  A função...\n",
        "  \"\"\"\n",
        "  print(folder, len(os.listdir(folder)))\n",
        "  data = np.zeros(shape[0] * shape[1] * shape[2],)\n",
        "  for im_name in os.listdir(folder):\n",
        "      imr = cv2.imread(folder + '/' + im_name)\n",
        "      if imr is None:\n",
        "        print(im_name)\n",
        "        continue\n",
        "      resz = cv2.resize(imr, shape[:2], interpolation = cv2.INTER_AREA)   \n",
        "      data = np.vstack([data, resz.flatten()])\n",
        "\n",
        "  return data\n",
        "\n",
        "img_width, img_height = 64, 64\n",
        "img_shape = (img_width, img_height, 3) # Original -> img_width, img_height = 360, 363"
      ]
    },
    {
      "cell_type": "markdown",
      "metadata": {
        "id": "nf4Zwitu8UEB"
      },
      "source": [
        "## Separação das classes rotuladas"
      ]
    },
    {
      "cell_type": "code",
      "execution_count": null,
      "metadata": {
        "colab": {
          "base_uri": "https://localhost:8080/"
        },
        "id": "mv5mKst0JR0j",
        "outputId": "a68aa2cd-1f62-4533-8509-7710feee338f"
      },
      "outputs": [
        {
          "name": "stdout",
          "output_type": "stream",
          "text": [
            "/content/drive/MyDrive/WBC_C-SVM/Dataset/PBC_dataset_normal_DIB/basophil 1218\n",
            "/content/drive/MyDrive/WBC_C-SVM/Dataset/PBC_dataset_normal_DIB/eosinophil 3117\n",
            "/content/drive/MyDrive/WBC_C-SVM/Dataset/PBC_dataset_normal_DIB/erythroblast 1551\n",
            "/content/drive/MyDrive/WBC_C-SVM/Dataset/PBC_dataset_normal_DIB/ig 2895\n",
            "/content/drive/MyDrive/WBC_C-SVM/Dataset/PBC_dataset_normal_DIB/lymphocyte 1214\n",
            "/content/drive/MyDrive/WBC_C-SVM/Dataset/PBC_dataset_normal_DIB/monocyte 1420\n",
            "/content/drive/MyDrive/WBC_C-SVM/Dataset/PBC_dataset_normal_DIB/neutrophil 3329\n",
            "/content/drive/MyDrive/WBC_C-SVM/Dataset/PBC_dataset_normal_DIB/neutrophil 3329\n",
            "/content/drive/MyDrive/WBC_C-SVM/Dataset/PBC_dataset_normal_DIB/platelet 2348\n"
          ]
        }
      ],
      "source": [
        "images_basophil = images2matrix(base_path + \"/basophil\", img_shape)\n",
        "images_eosinophil = images2matrix(base_path + \"/eosinophil\", img_shape)\n",
        "images_erythroblast = images2matrix(base_path + \"/erythroblast\", img_shape)\n",
        "images_ig = images2matrix(base_path + \"/ig\", img_shape)\n",
        "images_lymphocyte = images2matrix(base_path + \"/lymphocyte\", img_shape)\n",
        "images_monocyte = images2matrix(base_path + \"/monocyte\", img_shape)\n",
        "images_neutrophil = images2matrix(base_path + \"/neutrophil\", img_shape)\n",
        "images_neutrophil = images2matrix(base_path + \"/neutrophil\", img_shape)\n",
        "images_platelet = images2matrix(base_path + \"/platelet\", img_shape)"
      ]
    },
    {
      "cell_type": "code",
      "execution_count": null,
      "metadata": {
        "id": "etLAV2pdPl4-"
      },
      "outputs": [],
      "source": [
        "list_img = [images_basophil, images_eosinophil, images_erythroblast, images_ig, images_lymphocyte, images_monocyte, images_neutrophil, images_platelet]\n",
        "images = np.concatenate(list_img, axis=0)"
      ]
    },
    {
      "cell_type": "code",
      "execution_count": null,
      "metadata": {
        "id": "Xb4TZuCvSS_M"
      },
      "outputs": [],
      "source": [
        "labels = np.array(\n",
        "    [0]*len(images_basophil) + \n",
        "    [1]*len(images_eosinophil) + \n",
        "    [2]*len(images_erythroblast) + \n",
        "    [3]*len(images_ig) + \n",
        "    [4]*len(images_lymphocyte) + \n",
        "    [5]*len(images_monocyte) + \n",
        "    [6]*len(images_neutrophil) + \n",
        "    [7]*len(images_platelet)\n",
        ")"
      ]
    },
    {
      "cell_type": "code",
      "execution_count": null,
      "metadata": {
        "id": "kZ7-CkJFB9IW"
      },
      "outputs": [],
      "source": [
        "lista_labels = [\"basophil\", \"eosinophil\", \"erythroblast\", \"ig\", \"lymphocyte\", \"monocyte\", \"neutrophil\", \"platelet\"]"
      ]
    },
    {
      "cell_type": "code",
      "execution_count": null,
      "metadata": {
        "id": "WYIp32BG8owv"
      },
      "outputs": [],
      "source": [
        "n_amostras = len(lista_labels)"
      ]
    },
    {
      "cell_type": "markdown",
      "metadata": {
        "id": "-3L23FBa8gWa"
      },
      "source": [
        "## Divisão de treino e teste"
      ]
    },
    {
      "cell_type": "code",
      "execution_count": null,
      "metadata": {
        "id": "NBpC5vd1UibN"
      },
      "outputs": [],
      "source": [
        "X_train, X_test, y_train, y_test = train_test_split(images, labels, test_size=0.3, random_state=42, stratify=labels)\n",
        "X_train = X_train.reshape((-1, *img_shape))/255\n",
        "X_test = X_test.reshape((-1, *img_shape))/255"
      ]
    },
    {
      "cell_type": "code",
      "execution_count": null,
      "metadata": {
        "colab": {
          "base_uri": "https://localhost:8080/"
        },
        "id": "AU_JonLjVzsR",
        "outputId": "36c49cc2-21d4-4ac3-a0f2-cb5bfa867749"
      },
      "outputs": [
        {
          "data": {
            "text/plain": [
              "(11970, 64, 64, 3)"
            ]
          },
          "execution_count": 13,
          "metadata": {},
          "output_type": "execute_result"
        }
      ],
      "source": [
        "X_train.shape"
      ]
    },
    {
      "cell_type": "markdown",
      "metadata": {
        "id": "haFe57IX9qBV"
      },
      "source": [
        "## Treino da ResNet"
      ]
    },
    {
      "cell_type": "code",
      "execution_count": null,
      "metadata": {
        "colab": {
          "background_save": true,
          "base_uri": "https://localhost:8080/"
        },
        "id": "xYKztiDwOn9L",
        "outputId": "f4e5b54c-2b5e-4768-f175-fb9b1c617cc4"
      },
      "outputs": [
        {
          "name": "stdout",
          "output_type": "stream",
          "text": [
            "Downloading data from https://github.com/qubvel/classification_models/releases/download/0.0.1/resnet18_imagenet_1000_no_top.h5\n",
            "44924928/44920640 [==============================] - 1s 0us/step\n",
            "44933120/44920640 [==============================] - 1s 0us/step\n",
            "Model: \"model_1\"\n",
            "__________________________________________________________________________________________________\n",
            " Layer (type)                   Output Shape         Param #     Connected to                     \n",
            "==================================================================================================\n",
            " data (InputLayer)              [(None, 64, 64, 3)]  0           []                               \n",
            "                                                                                                  \n",
            " bn_data (BatchNormalization)   (None, 64, 64, 3)    9           ['data[0][0]']                   \n",
            "                                                                                                  \n",
            " zero_padding2d (ZeroPadding2D)  (None, 70, 70, 3)   0           ['bn_data[0][0]']                \n",
            "                                                                                                  \n",
            " conv0 (Conv2D)                 (None, 32, 32, 64)   9408        ['zero_padding2d[0][0]']         \n",
            "                                                                                                  \n",
            " bn0 (BatchNormalization)       (None, 32, 32, 64)   256         ['conv0[0][0]']                  \n",
            "                                                                                                  \n",
            " relu0 (Activation)             (None, 32, 32, 64)   0           ['bn0[0][0]']                    \n",
            "                                                                                                  \n",
            " zero_padding2d_1 (ZeroPadding2  (None, 34, 34, 64)  0           ['relu0[0][0]']                  \n",
            " D)                                                                                               \n",
            "                                                                                                  \n",
            " pooling0 (MaxPooling2D)        (None, 16, 16, 64)   0           ['zero_padding2d_1[0][0]']       \n",
            "                                                                                                  \n",
            " stage1_unit1_bn1 (BatchNormali  (None, 16, 16, 64)  256         ['pooling0[0][0]']               \n",
            " zation)                                                                                          \n",
            "                                                                                                  \n",
            " stage1_unit1_relu1 (Activation  (None, 16, 16, 64)  0           ['stage1_unit1_bn1[0][0]']       \n",
            " )                                                                                                \n",
            "                                                                                                  \n",
            " zero_padding2d_2 (ZeroPadding2  (None, 18, 18, 64)  0           ['stage1_unit1_relu1[0][0]']     \n",
            " D)                                                                                               \n",
            "                                                                                                  \n",
            " stage1_unit1_conv1 (Conv2D)    (None, 16, 16, 64)   36864       ['zero_padding2d_2[0][0]']       \n",
            "                                                                                                  \n",
            " stage1_unit1_bn2 (BatchNormali  (None, 16, 16, 64)  256         ['stage1_unit1_conv1[0][0]']     \n",
            " zation)                                                                                          \n",
            "                                                                                                  \n",
            " stage1_unit1_relu2 (Activation  (None, 16, 16, 64)  0           ['stage1_unit1_bn2[0][0]']       \n",
            " )                                                                                                \n",
            "                                                                                                  \n",
            " zero_padding2d_3 (ZeroPadding2  (None, 18, 18, 64)  0           ['stage1_unit1_relu2[0][0]']     \n",
            " D)                                                                                               \n",
            "                                                                                                  \n",
            " stage1_unit1_conv2 (Conv2D)    (None, 16, 16, 64)   36864       ['zero_padding2d_3[0][0]']       \n",
            "                                                                                                  \n",
            " stage1_unit1_sc (Conv2D)       (None, 16, 16, 64)   4096        ['stage1_unit1_relu1[0][0]']     \n",
            "                                                                                                  \n",
            " add (Add)                      (None, 16, 16, 64)   0           ['stage1_unit1_conv2[0][0]',     \n",
            "                                                                  'stage1_unit1_sc[0][0]']        \n",
            "                                                                                                  \n",
            " stage1_unit2_bn1 (BatchNormali  (None, 16, 16, 64)  256         ['add[0][0]']                    \n",
            " zation)                                                                                          \n",
            "                                                                                                  \n",
            " stage1_unit2_relu1 (Activation  (None, 16, 16, 64)  0           ['stage1_unit2_bn1[0][0]']       \n",
            " )                                                                                                \n",
            "                                                                                                  \n",
            " zero_padding2d_4 (ZeroPadding2  (None, 18, 18, 64)  0           ['stage1_unit2_relu1[0][0]']     \n",
            " D)                                                                                               \n",
            "                                                                                                  \n",
            " stage1_unit2_conv1 (Conv2D)    (None, 16, 16, 64)   36864       ['zero_padding2d_4[0][0]']       \n",
            "                                                                                                  \n",
            " stage1_unit2_bn2 (BatchNormali  (None, 16, 16, 64)  256         ['stage1_unit2_conv1[0][0]']     \n",
            " zation)                                                                                          \n",
            "                                                                                                  \n",
            " stage1_unit2_relu2 (Activation  (None, 16, 16, 64)  0           ['stage1_unit2_bn2[0][0]']       \n",
            " )                                                                                                \n",
            "                                                                                                  \n",
            " zero_padding2d_5 (ZeroPadding2  (None, 18, 18, 64)  0           ['stage1_unit2_relu2[0][0]']     \n",
            " D)                                                                                               \n",
            "                                                                                                  \n",
            " stage1_unit2_conv2 (Conv2D)    (None, 16, 16, 64)   36864       ['zero_padding2d_5[0][0]']       \n",
            "                                                                                                  \n",
            " add_1 (Add)                    (None, 16, 16, 64)   0           ['stage1_unit2_conv2[0][0]',     \n",
            "                                                                  'add[0][0]']                    \n",
            "                                                                                                  \n",
            " stage2_unit1_bn1 (BatchNormali  (None, 16, 16, 64)  256         ['add_1[0][0]']                  \n",
            " zation)                                                                                          \n",
            "                                                                                                  \n",
            " stage2_unit1_relu1 (Activation  (None, 16, 16, 64)  0           ['stage2_unit1_bn1[0][0]']       \n",
            " )                                                                                                \n",
            "                                                                                                  \n",
            " zero_padding2d_6 (ZeroPadding2  (None, 18, 18, 64)  0           ['stage2_unit1_relu1[0][0]']     \n",
            " D)                                                                                               \n",
            "                                                                                                  \n",
            " stage2_unit1_conv1 (Conv2D)    (None, 8, 8, 128)    73728       ['zero_padding2d_6[0][0]']       \n",
            "                                                                                                  \n",
            " stage2_unit1_bn2 (BatchNormali  (None, 8, 8, 128)   512         ['stage2_unit1_conv1[0][0]']     \n",
            " zation)                                                                                          \n",
            "                                                                                                  \n",
            " stage2_unit1_relu2 (Activation  (None, 8, 8, 128)   0           ['stage2_unit1_bn2[0][0]']       \n",
            " )                                                                                                \n",
            "                                                                                                  \n",
            " zero_padding2d_7 (ZeroPadding2  (None, 10, 10, 128)  0          ['stage2_unit1_relu2[0][0]']     \n",
            " D)                                                                                               \n",
            "                                                                                                  \n",
            " stage2_unit1_conv2 (Conv2D)    (None, 8, 8, 128)    147456      ['zero_padding2d_7[0][0]']       \n",
            "                                                                                                  \n",
            " stage2_unit1_sc (Conv2D)       (None, 8, 8, 128)    8192        ['stage2_unit1_relu1[0][0]']     \n",
            "                                                                                                  \n",
            " add_2 (Add)                    (None, 8, 8, 128)    0           ['stage2_unit1_conv2[0][0]',     \n",
            "                                                                  'stage2_unit1_sc[0][0]']        \n",
            "                                                                                                  \n",
            " stage2_unit2_bn1 (BatchNormali  (None, 8, 8, 128)   512         ['add_2[0][0]']                  \n",
            " zation)                                                                                          \n",
            "                                                                                                  \n",
            " stage2_unit2_relu1 (Activation  (None, 8, 8, 128)   0           ['stage2_unit2_bn1[0][0]']       \n",
            " )                                                                                                \n",
            "                                                                                                  \n",
            " zero_padding2d_8 (ZeroPadding2  (None, 10, 10, 128)  0          ['stage2_unit2_relu1[0][0]']     \n",
            " D)                                                                                               \n",
            "                                                                                                  \n",
            " stage2_unit2_conv1 (Conv2D)    (None, 8, 8, 128)    147456      ['zero_padding2d_8[0][0]']       \n",
            "                                                                                                  \n",
            " stage2_unit2_bn2 (BatchNormali  (None, 8, 8, 128)   512         ['stage2_unit2_conv1[0][0]']     \n",
            " zation)                                                                                          \n",
            "                                                                                                  \n",
            " stage2_unit2_relu2 (Activation  (None, 8, 8, 128)   0           ['stage2_unit2_bn2[0][0]']       \n",
            " )                                                                                                \n",
            "                                                                                                  \n",
            " zero_padding2d_9 (ZeroPadding2  (None, 10, 10, 128)  0          ['stage2_unit2_relu2[0][0]']     \n",
            " D)                                                                                               \n",
            "                                                                                                  \n",
            " stage2_unit2_conv2 (Conv2D)    (None, 8, 8, 128)    147456      ['zero_padding2d_9[0][0]']       \n",
            "                                                                                                  \n",
            " add_3 (Add)                    (None, 8, 8, 128)    0           ['stage2_unit2_conv2[0][0]',     \n",
            "                                                                  'add_2[0][0]']                  \n",
            "                                                                                                  \n",
            " stage3_unit1_bn1 (BatchNormali  (None, 8, 8, 128)   512         ['add_3[0][0]']                  \n",
            " zation)                                                                                          \n",
            "                                                                                                  \n",
            " stage3_unit1_relu1 (Activation  (None, 8, 8, 128)   0           ['stage3_unit1_bn1[0][0]']       \n",
            " )                                                                                                \n",
            "                                                                                                  \n",
            " zero_padding2d_10 (ZeroPadding  (None, 10, 10, 128)  0          ['stage3_unit1_relu1[0][0]']     \n",
            " 2D)                                                                                              \n",
            "                                                                                                  \n",
            " stage3_unit1_conv1 (Conv2D)    (None, 4, 4, 256)    294912      ['zero_padding2d_10[0][0]']      \n",
            "                                                                                                  \n",
            " stage3_unit1_bn2 (BatchNormali  (None, 4, 4, 256)   1024        ['stage3_unit1_conv1[0][0]']     \n",
            " zation)                                                                                          \n",
            "                                                                                                  \n",
            " stage3_unit1_relu2 (Activation  (None, 4, 4, 256)   0           ['stage3_unit1_bn2[0][0]']       \n",
            " )                                                                                                \n",
            "                                                                                                  \n",
            " zero_padding2d_11 (ZeroPadding  (None, 6, 6, 256)   0           ['stage3_unit1_relu2[0][0]']     \n",
            " 2D)                                                                                              \n",
            "                                                                                                  \n",
            " stage3_unit1_conv2 (Conv2D)    (None, 4, 4, 256)    589824      ['zero_padding2d_11[0][0]']      \n",
            "                                                                                                  \n",
            " stage3_unit1_sc (Conv2D)       (None, 4, 4, 256)    32768       ['stage3_unit1_relu1[0][0]']     \n",
            "                                                                                                  \n",
            " add_4 (Add)                    (None, 4, 4, 256)    0           ['stage3_unit1_conv2[0][0]',     \n",
            "                                                                  'stage3_unit1_sc[0][0]']        \n",
            "                                                                                                  \n",
            " stage3_unit2_bn1 (BatchNormali  (None, 4, 4, 256)   1024        ['add_4[0][0]']                  \n",
            " zation)                                                                                          \n",
            "                                                                                                  \n",
            " stage3_unit2_relu1 (Activation  (None, 4, 4, 256)   0           ['stage3_unit2_bn1[0][0]']       \n",
            " )                                                                                                \n",
            "                                                                                                  \n",
            " zero_padding2d_12 (ZeroPadding  (None, 6, 6, 256)   0           ['stage3_unit2_relu1[0][0]']     \n",
            " 2D)                                                                                              \n",
            "                                                                                                  \n",
            " stage3_unit2_conv1 (Conv2D)    (None, 4, 4, 256)    589824      ['zero_padding2d_12[0][0]']      \n",
            "                                                                                                  \n",
            " stage3_unit2_bn2 (BatchNormali  (None, 4, 4, 256)   1024        ['stage3_unit2_conv1[0][0]']     \n",
            " zation)                                                                                          \n",
            "                                                                                                  \n",
            " stage3_unit2_relu2 (Activation  (None, 4, 4, 256)   0           ['stage3_unit2_bn2[0][0]']       \n",
            " )                                                                                                \n",
            "                                                                                                  \n",
            " zero_padding2d_13 (ZeroPadding  (None, 6, 6, 256)   0           ['stage3_unit2_relu2[0][0]']     \n",
            " 2D)                                                                                              \n",
            "                                                                                                  \n",
            " stage3_unit2_conv2 (Conv2D)    (None, 4, 4, 256)    589824      ['zero_padding2d_13[0][0]']      \n",
            "                                                                                                  \n",
            " add_5 (Add)                    (None, 4, 4, 256)    0           ['stage3_unit2_conv2[0][0]',     \n",
            "                                                                  'add_4[0][0]']                  \n",
            "                                                                                                  \n",
            " stage4_unit1_bn1 (BatchNormali  (None, 4, 4, 256)   1024        ['add_5[0][0]']                  \n",
            " zation)                                                                                          \n",
            "                                                                                                  \n",
            " stage4_unit1_relu1 (Activation  (None, 4, 4, 256)   0           ['stage4_unit1_bn1[0][0]']       \n",
            " )                                                                                                \n",
            "                                                                                                  \n",
            " zero_padding2d_14 (ZeroPadding  (None, 6, 6, 256)   0           ['stage4_unit1_relu1[0][0]']     \n",
            " 2D)                                                                                              \n",
            "                                                                                                  \n",
            " stage4_unit1_conv1 (Conv2D)    (None, 2, 2, 512)    1179648     ['zero_padding2d_14[0][0]']      \n",
            "                                                                                                  \n",
            " stage4_unit1_bn2 (BatchNormali  (None, 2, 2, 512)   2048        ['stage4_unit1_conv1[0][0]']     \n",
            " zation)                                                                                          \n",
            "                                                                                                  \n",
            " stage4_unit1_relu2 (Activation  (None, 2, 2, 512)   0           ['stage4_unit1_bn2[0][0]']       \n",
            " )                                                                                                \n",
            "                                                                                                  \n",
            " zero_padding2d_15 (ZeroPadding  (None, 4, 4, 512)   0           ['stage4_unit1_relu2[0][0]']     \n",
            " 2D)                                                                                              \n",
            "                                                                                                  \n",
            " stage4_unit1_conv2 (Conv2D)    (None, 2, 2, 512)    2359296     ['zero_padding2d_15[0][0]']      \n",
            "                                                                                                  \n",
            " stage4_unit1_sc (Conv2D)       (None, 2, 2, 512)    131072      ['stage4_unit1_relu1[0][0]']     \n",
            "                                                                                                  \n",
            " add_6 (Add)                    (None, 2, 2, 512)    0           ['stage4_unit1_conv2[0][0]',     \n",
            "                                                                  'stage4_unit1_sc[0][0]']        \n",
            "                                                                                                  \n",
            " stage4_unit2_bn1 (BatchNormali  (None, 2, 2, 512)   2048        ['add_6[0][0]']                  \n",
            " zation)                                                                                          \n",
            "                                                                                                  \n",
            " stage4_unit2_relu1 (Activation  (None, 2, 2, 512)   0           ['stage4_unit2_bn1[0][0]']       \n",
            " )                                                                                                \n",
            "                                                                                                  \n",
            " zero_padding2d_16 (ZeroPadding  (None, 4, 4, 512)   0           ['stage4_unit2_relu1[0][0]']     \n",
            " 2D)                                                                                              \n",
            "                                                                                                  \n",
            " stage4_unit2_conv1 (Conv2D)    (None, 2, 2, 512)    2359296     ['zero_padding2d_16[0][0]']      \n",
            "                                                                                                  \n",
            " stage4_unit2_bn2 (BatchNormali  (None, 2, 2, 512)   2048        ['stage4_unit2_conv1[0][0]']     \n",
            " zation)                                                                                          \n",
            "                                                                                                  \n",
            " stage4_unit2_relu2 (Activation  (None, 2, 2, 512)   0           ['stage4_unit2_bn2[0][0]']       \n",
            " )                                                                                                \n",
            "                                                                                                  \n",
            " zero_padding2d_17 (ZeroPadding  (None, 4, 4, 512)   0           ['stage4_unit2_relu2[0][0]']     \n",
            " 2D)                                                                                              \n",
            "                                                                                                  \n",
            " stage4_unit2_conv2 (Conv2D)    (None, 2, 2, 512)    2359296     ['zero_padding2d_17[0][0]']      \n",
            "                                                                                                  \n",
            " add_7 (Add)                    (None, 2, 2, 512)    0           ['stage4_unit2_conv2[0][0]',     \n",
            "                                                                  'add_6[0][0]']                  \n",
            "                                                                                                  \n",
            " bn1 (BatchNormalization)       (None, 2, 2, 512)    2048        ['add_7[0][0]']                  \n",
            "                                                                                                  \n",
            " relu1 (Activation)             (None, 2, 2, 512)    0           ['bn1[0][0]']                    \n",
            "                                                                                                  \n",
            " Global (GlobalAveragePooling2D  (None, 512)         0           ['relu1[0][0]']                  \n",
            " )                                                                                                \n",
            "                                                                                                  \n",
            " dense (Dense)                  (None, 8)            4104        ['Global[0][0]']                 \n",
            "                                                                                                  \n",
            "==================================================================================================\n",
            "Total params: 11,190,993\n",
            "Trainable params: 11,183,051\n",
            "Non-trainable params: 7,942\n",
            "__________________________________________________________________________________________________\n",
            "Epoch 1/50\n",
            "375/375 [==============================] - 1199s 3s/step - loss: 0.4257 - accuracy: 0.8682 - val_loss: 5.2343 - val_accuracy: 0.0830\n",
            "Epoch 2/50\n",
            "375/375 [==============================] - 1208s 3s/step - loss: 0.2155 - accuracy: 0.9311 - val_loss: 3.9718 - val_accuracy: 0.1374\n",
            "Epoch 3/50\n",
            "375/375 [==============================] - ETA: 0s - loss: 0.1771 - accuracy: 0.9410"
          ]
        }
      ],
      "source": [
        "base_model = ResNet18(input_shape=img_shape, include_top=False, weights=\"imagenet\", backend=K, layers=tf.keras.layers, models=tf.keras.models, utils=tf.keras.utils)\n",
        "X = GlobalAvgPool2D(name=\"Global\")(base_model.output) # A saída da ResNet com inclus_top=False é uma imagem, GAP2D vai calcular a media por cada canal\n",
        "output = Dense(n_amostras, activation = \"softmax\")(X) # Faz a classificação\n",
        "\n",
        "model = Model(inputs=base_model.inputs, outputs=[output])\n",
        "model.summary() # Faz a tabela\n",
        "\n",
        "list_callbacks = [\n",
        "  EarlyStopping(monitor=\"val_accuracy\", patience=10, verbose=1, restore_best_weights=True)\n",
        "]\n",
        "\n",
        "model.compile(optimizer=\"adam\", loss=\"sparse_categorical_crossentropy\", metrics=[\"accuracy\"])\n",
        "model.fit(X_train, y_train, batch_size=32, epochs=50, validation_data=(X_test, y_test), verbose=1, callbacks=list_callbacks) "
      ]
    },
    {
      "cell_type": "code",
      "execution_count": null,
      "metadata": {
        "colab": {
          "base_uri": "https://localhost:8080/"
        },
        "id": "uSdXpdoUclSh",
        "outputId": "584d1fc0-1bd1-4086-9947-de6deb3700a8"
      },
      "outputs": [
        {
          "name": "stdout",
          "output_type": "stream",
          "text": [
            "Model: \"model_2\"\n",
            "__________________________________________________________________________________________________\n",
            " Layer (type)                   Output Shape         Param #     Connected to                     \n",
            "==================================================================================================\n",
            " data (InputLayer)              [(None, 64, 64, 3)]  0           []                               \n",
            "                                                                                                  \n",
            " bn_data (BatchNormalization)   (None, 64, 64, 3)    9           ['data[0][0]']                   \n",
            "                                                                                                  \n",
            " zero_padding2d (ZeroPadding2D)  (None, 70, 70, 3)   0           ['bn_data[0][0]']                \n",
            "                                                                                                  \n",
            " conv0 (Conv2D)                 (None, 32, 32, 64)   9408        ['zero_padding2d[0][0]']         \n",
            "                                                                                                  \n",
            " bn0 (BatchNormalization)       (None, 32, 32, 64)   256         ['conv0[0][0]']                  \n",
            "                                                                                                  \n",
            " relu0 (Activation)             (None, 32, 32, 64)   0           ['bn0[0][0]']                    \n",
            "                                                                                                  \n",
            " zero_padding2d_1 (ZeroPadding2  (None, 34, 34, 64)  0           ['relu0[0][0]']                  \n",
            " D)                                                                                               \n",
            "                                                                                                  \n",
            " pooling0 (MaxPooling2D)        (None, 16, 16, 64)   0           ['zero_padding2d_1[0][0]']       \n",
            "                                                                                                  \n",
            " stage1_unit1_bn1 (BatchNormali  (None, 16, 16, 64)  256         ['pooling0[0][0]']               \n",
            " zation)                                                                                          \n",
            "                                                                                                  \n",
            " stage1_unit1_relu1 (Activation  (None, 16, 16, 64)  0           ['stage1_unit1_bn1[0][0]']       \n",
            " )                                                                                                \n",
            "                                                                                                  \n",
            " zero_padding2d_2 (ZeroPadding2  (None, 18, 18, 64)  0           ['stage1_unit1_relu1[0][0]']     \n",
            " D)                                                                                               \n",
            "                                                                                                  \n",
            " stage1_unit1_conv1 (Conv2D)    (None, 16, 16, 64)   36864       ['zero_padding2d_2[0][0]']       \n",
            "                                                                                                  \n",
            " stage1_unit1_bn2 (BatchNormali  (None, 16, 16, 64)  256         ['stage1_unit1_conv1[0][0]']     \n",
            " zation)                                                                                          \n",
            "                                                                                                  \n",
            " stage1_unit1_relu2 (Activation  (None, 16, 16, 64)  0           ['stage1_unit1_bn2[0][0]']       \n",
            " )                                                                                                \n",
            "                                                                                                  \n",
            " zero_padding2d_3 (ZeroPadding2  (None, 18, 18, 64)  0           ['stage1_unit1_relu2[0][0]']     \n",
            " D)                                                                                               \n",
            "                                                                                                  \n",
            " stage1_unit1_conv2 (Conv2D)    (None, 16, 16, 64)   36864       ['zero_padding2d_3[0][0]']       \n",
            "                                                                                                  \n",
            " stage1_unit1_sc (Conv2D)       (None, 16, 16, 64)   4096        ['stage1_unit1_relu1[0][0]']     \n",
            "                                                                                                  \n",
            " add (Add)                      (None, 16, 16, 64)   0           ['stage1_unit1_conv2[0][0]',     \n",
            "                                                                  'stage1_unit1_sc[0][0]']        \n",
            "                                                                                                  \n",
            " stage1_unit2_bn1 (BatchNormali  (None, 16, 16, 64)  256         ['add[0][0]']                    \n",
            " zation)                                                                                          \n",
            "                                                                                                  \n",
            " stage1_unit2_relu1 (Activation  (None, 16, 16, 64)  0           ['stage1_unit2_bn1[0][0]']       \n",
            " )                                                                                                \n",
            "                                                                                                  \n",
            " zero_padding2d_4 (ZeroPadding2  (None, 18, 18, 64)  0           ['stage1_unit2_relu1[0][0]']     \n",
            " D)                                                                                               \n",
            "                                                                                                  \n",
            " stage1_unit2_conv1 (Conv2D)    (None, 16, 16, 64)   36864       ['zero_padding2d_4[0][0]']       \n",
            "                                                                                                  \n",
            " stage1_unit2_bn2 (BatchNormali  (None, 16, 16, 64)  256         ['stage1_unit2_conv1[0][0]']     \n",
            " zation)                                                                                          \n",
            "                                                                                                  \n",
            " stage1_unit2_relu2 (Activation  (None, 16, 16, 64)  0           ['stage1_unit2_bn2[0][0]']       \n",
            " )                                                                                                \n",
            "                                                                                                  \n",
            " zero_padding2d_5 (ZeroPadding2  (None, 18, 18, 64)  0           ['stage1_unit2_relu2[0][0]']     \n",
            " D)                                                                                               \n",
            "                                                                                                  \n",
            " stage1_unit2_conv2 (Conv2D)    (None, 16, 16, 64)   36864       ['zero_padding2d_5[0][0]']       \n",
            "                                                                                                  \n",
            " add_1 (Add)                    (None, 16, 16, 64)   0           ['stage1_unit2_conv2[0][0]',     \n",
            "                                                                  'add[0][0]']                    \n",
            "                                                                                                  \n",
            " stage2_unit1_bn1 (BatchNormali  (None, 16, 16, 64)  256         ['add_1[0][0]']                  \n",
            " zation)                                                                                          \n",
            "                                                                                                  \n",
            " stage2_unit1_relu1 (Activation  (None, 16, 16, 64)  0           ['stage2_unit1_bn1[0][0]']       \n",
            " )                                                                                                \n",
            "                                                                                                  \n",
            " zero_padding2d_6 (ZeroPadding2  (None, 18, 18, 64)  0           ['stage2_unit1_relu1[0][0]']     \n",
            " D)                                                                                               \n",
            "                                                                                                  \n",
            " stage2_unit1_conv1 (Conv2D)    (None, 8, 8, 128)    73728       ['zero_padding2d_6[0][0]']       \n",
            "                                                                                                  \n",
            " stage2_unit1_bn2 (BatchNormali  (None, 8, 8, 128)   512         ['stage2_unit1_conv1[0][0]']     \n",
            " zation)                                                                                          \n",
            "                                                                                                  \n",
            " stage2_unit1_relu2 (Activation  (None, 8, 8, 128)   0           ['stage2_unit1_bn2[0][0]']       \n",
            " )                                                                                                \n",
            "                                                                                                  \n",
            " zero_padding2d_7 (ZeroPadding2  (None, 10, 10, 128)  0          ['stage2_unit1_relu2[0][0]']     \n",
            " D)                                                                                               \n",
            "                                                                                                  \n",
            " stage2_unit1_conv2 (Conv2D)    (None, 8, 8, 128)    147456      ['zero_padding2d_7[0][0]']       \n",
            "                                                                                                  \n",
            " stage2_unit1_sc (Conv2D)       (None, 8, 8, 128)    8192        ['stage2_unit1_relu1[0][0]']     \n",
            "                                                                                                  \n",
            " add_2 (Add)                    (None, 8, 8, 128)    0           ['stage2_unit1_conv2[0][0]',     \n",
            "                                                                  'stage2_unit1_sc[0][0]']        \n",
            "                                                                                                  \n",
            " stage2_unit2_bn1 (BatchNormali  (None, 8, 8, 128)   512         ['add_2[0][0]']                  \n",
            " zation)                                                                                          \n",
            "                                                                                                  \n",
            " stage2_unit2_relu1 (Activation  (None, 8, 8, 128)   0           ['stage2_unit2_bn1[0][0]']       \n",
            " )                                                                                                \n",
            "                                                                                                  \n",
            " zero_padding2d_8 (ZeroPadding2  (None, 10, 10, 128)  0          ['stage2_unit2_relu1[0][0]']     \n",
            " D)                                                                                               \n",
            "                                                                                                  \n",
            " stage2_unit2_conv1 (Conv2D)    (None, 8, 8, 128)    147456      ['zero_padding2d_8[0][0]']       \n",
            "                                                                                                  \n",
            " stage2_unit2_bn2 (BatchNormali  (None, 8, 8, 128)   512         ['stage2_unit2_conv1[0][0]']     \n",
            " zation)                                                                                          \n",
            "                                                                                                  \n",
            " stage2_unit2_relu2 (Activation  (None, 8, 8, 128)   0           ['stage2_unit2_bn2[0][0]']       \n",
            " )                                                                                                \n",
            "                                                                                                  \n",
            " zero_padding2d_9 (ZeroPadding2  (None, 10, 10, 128)  0          ['stage2_unit2_relu2[0][0]']     \n",
            " D)                                                                                               \n",
            "                                                                                                  \n",
            " stage2_unit2_conv2 (Conv2D)    (None, 8, 8, 128)    147456      ['zero_padding2d_9[0][0]']       \n",
            "                                                                                                  \n",
            " add_3 (Add)                    (None, 8, 8, 128)    0           ['stage2_unit2_conv2[0][0]',     \n",
            "                                                                  'add_2[0][0]']                  \n",
            "                                                                                                  \n",
            " stage3_unit1_bn1 (BatchNormali  (None, 8, 8, 128)   512         ['add_3[0][0]']                  \n",
            " zation)                                                                                          \n",
            "                                                                                                  \n",
            " stage3_unit1_relu1 (Activation  (None, 8, 8, 128)   0           ['stage3_unit1_bn1[0][0]']       \n",
            " )                                                                                                \n",
            "                                                                                                  \n",
            " zero_padding2d_10 (ZeroPadding  (None, 10, 10, 128)  0          ['stage3_unit1_relu1[0][0]']     \n",
            " 2D)                                                                                              \n",
            "                                                                                                  \n",
            " stage3_unit1_conv1 (Conv2D)    (None, 4, 4, 256)    294912      ['zero_padding2d_10[0][0]']      \n",
            "                                                                                                  \n",
            " stage3_unit1_bn2 (BatchNormali  (None, 4, 4, 256)   1024        ['stage3_unit1_conv1[0][0]']     \n",
            " zation)                                                                                          \n",
            "                                                                                                  \n",
            " stage3_unit1_relu2 (Activation  (None, 4, 4, 256)   0           ['stage3_unit1_bn2[0][0]']       \n",
            " )                                                                                                \n",
            "                                                                                                  \n",
            " zero_padding2d_11 (ZeroPadding  (None, 6, 6, 256)   0           ['stage3_unit1_relu2[0][0]']     \n",
            " 2D)                                                                                              \n",
            "                                                                                                  \n",
            " stage3_unit1_conv2 (Conv2D)    (None, 4, 4, 256)    589824      ['zero_padding2d_11[0][0]']      \n",
            "                                                                                                  \n",
            " stage3_unit1_sc (Conv2D)       (None, 4, 4, 256)    32768       ['stage3_unit1_relu1[0][0]']     \n",
            "                                                                                                  \n",
            " add_4 (Add)                    (None, 4, 4, 256)    0           ['stage3_unit1_conv2[0][0]',     \n",
            "                                                                  'stage3_unit1_sc[0][0]']        \n",
            "                                                                                                  \n",
            " stage3_unit2_bn1 (BatchNormali  (None, 4, 4, 256)   1024        ['add_4[0][0]']                  \n",
            " zation)                                                                                          \n",
            "                                                                                                  \n",
            " stage3_unit2_relu1 (Activation  (None, 4, 4, 256)   0           ['stage3_unit2_bn1[0][0]']       \n",
            " )                                                                                                \n",
            "                                                                                                  \n",
            " zero_padding2d_12 (ZeroPadding  (None, 6, 6, 256)   0           ['stage3_unit2_relu1[0][0]']     \n",
            " 2D)                                                                                              \n",
            "                                                                                                  \n",
            " stage3_unit2_conv1 (Conv2D)    (None, 4, 4, 256)    589824      ['zero_padding2d_12[0][0]']      \n",
            "                                                                                                  \n",
            " stage3_unit2_bn2 (BatchNormali  (None, 4, 4, 256)   1024        ['stage3_unit2_conv1[0][0]']     \n",
            " zation)                                                                                          \n",
            "                                                                                                  \n",
            " stage3_unit2_relu2 (Activation  (None, 4, 4, 256)   0           ['stage3_unit2_bn2[0][0]']       \n",
            " )                                                                                                \n",
            "                                                                                                  \n",
            " zero_padding2d_13 (ZeroPadding  (None, 6, 6, 256)   0           ['stage3_unit2_relu2[0][0]']     \n",
            " 2D)                                                                                              \n",
            "                                                                                                  \n",
            " stage3_unit2_conv2 (Conv2D)    (None, 4, 4, 256)    589824      ['zero_padding2d_13[0][0]']      \n",
            "                                                                                                  \n",
            " add_5 (Add)                    (None, 4, 4, 256)    0           ['stage3_unit2_conv2[0][0]',     \n",
            "                                                                  'add_4[0][0]']                  \n",
            "                                                                                                  \n",
            " stage4_unit1_bn1 (BatchNormali  (None, 4, 4, 256)   1024        ['add_5[0][0]']                  \n",
            " zation)                                                                                          \n",
            "                                                                                                  \n",
            " stage4_unit1_relu1 (Activation  (None, 4, 4, 256)   0           ['stage4_unit1_bn1[0][0]']       \n",
            " )                                                                                                \n",
            "                                                                                                  \n",
            " zero_padding2d_14 (ZeroPadding  (None, 6, 6, 256)   0           ['stage4_unit1_relu1[0][0]']     \n",
            " 2D)                                                                                              \n",
            "                                                                                                  \n",
            " stage4_unit1_conv1 (Conv2D)    (None, 2, 2, 512)    1179648     ['zero_padding2d_14[0][0]']      \n",
            "                                                                                                  \n",
            " stage4_unit1_bn2 (BatchNormali  (None, 2, 2, 512)   2048        ['stage4_unit1_conv1[0][0]']     \n",
            " zation)                                                                                          \n",
            "                                                                                                  \n",
            " stage4_unit1_relu2 (Activation  (None, 2, 2, 512)   0           ['stage4_unit1_bn2[0][0]']       \n",
            " )                                                                                                \n",
            "                                                                                                  \n",
            " zero_padding2d_15 (ZeroPadding  (None, 4, 4, 512)   0           ['stage4_unit1_relu2[0][0]']     \n",
            " 2D)                                                                                              \n",
            "                                                                                                  \n",
            " stage4_unit1_conv2 (Conv2D)    (None, 2, 2, 512)    2359296     ['zero_padding2d_15[0][0]']      \n",
            "                                                                                                  \n",
            " stage4_unit1_sc (Conv2D)       (None, 2, 2, 512)    131072      ['stage4_unit1_relu1[0][0]']     \n",
            "                                                                                                  \n",
            " add_6 (Add)                    (None, 2, 2, 512)    0           ['stage4_unit1_conv2[0][0]',     \n",
            "                                                                  'stage4_unit1_sc[0][0]']        \n",
            "                                                                                                  \n",
            " stage4_unit2_bn1 (BatchNormali  (None, 2, 2, 512)   2048        ['add_6[0][0]']                  \n",
            " zation)                                                                                          \n",
            "                                                                                                  \n",
            " stage4_unit2_relu1 (Activation  (None, 2, 2, 512)   0           ['stage4_unit2_bn1[0][0]']       \n",
            " )                                                                                                \n",
            "                                                                                                  \n",
            " zero_padding2d_16 (ZeroPadding  (None, 4, 4, 512)   0           ['stage4_unit2_relu1[0][0]']     \n",
            " 2D)                                                                                              \n",
            "                                                                                                  \n",
            " stage4_unit2_conv1 (Conv2D)    (None, 2, 2, 512)    2359296     ['zero_padding2d_16[0][0]']      \n",
            "                                                                                                  \n",
            " stage4_unit2_bn2 (BatchNormali  (None, 2, 2, 512)   2048        ['stage4_unit2_conv1[0][0]']     \n",
            " zation)                                                                                          \n",
            "                                                                                                  \n",
            " stage4_unit2_relu2 (Activation  (None, 2, 2, 512)   0           ['stage4_unit2_bn2[0][0]']       \n",
            " )                                                                                                \n",
            "                                                                                                  \n",
            " zero_padding2d_17 (ZeroPadding  (None, 4, 4, 512)   0           ['stage4_unit2_relu2[0][0]']     \n",
            " 2D)                                                                                              \n",
            "                                                                                                  \n",
            " stage4_unit2_conv2 (Conv2D)    (None, 2, 2, 512)    2359296     ['zero_padding2d_17[0][0]']      \n",
            "                                                                                                  \n",
            " add_7 (Add)                    (None, 2, 2, 512)    0           ['stage4_unit2_conv2[0][0]',     \n",
            "                                                                  'add_6[0][0]']                  \n",
            "                                                                                                  \n",
            " bn1 (BatchNormalization)       (None, 2, 2, 512)    2048        ['add_7[0][0]']                  \n",
            "                                                                                                  \n",
            " relu1 (Activation)             (None, 2, 2, 512)    0           ['bn1[0][0]']                    \n",
            "                                                                                                  \n",
            " Global (GlobalAveragePooling2D  (None, 512)         0           ['relu1[0][0]']                  \n",
            " )                                                                                                \n",
            "                                                                                                  \n",
            "==================================================================================================\n",
            "Total params: 11,186,889\n",
            "Trainable params: 11,178,947\n",
            "Non-trainable params: 7,942\n",
            "__________________________________________________________________________________________________\n"
          ]
        }
      ],
      "source": [
        "model_ResNet = Model(inputs=model.inputs, outputs=[model.get_layer(\"Global\").output])\n",
        "model_ResNet.summary()"
      ]
    },
    {
      "cell_type": "code",
      "execution_count": null,
      "metadata": {
        "id": "2TNbR3KPXnw9"
      },
      "outputs": [],
      "source": [
        "X_train_ResNet = model_ResNet.predict(X_train)\n",
        "X_test_ResNet = model_ResNet.predict(X_test)"
      ]
    },
    {
      "cell_type": "code",
      "execution_count": null,
      "metadata": {
        "colab": {
          "base_uri": "https://localhost:8080/"
        },
        "id": "izpQW7D8YEz2",
        "outputId": "2152a625-6e82-47fd-9a98-e6da8f6060bf"
      },
      "outputs": [
        {
          "data": {
            "text/plain": [
              "((5130, 512), (5130, 64, 64, 3))"
            ]
          },
          "execution_count": 17,
          "metadata": {},
          "output_type": "execute_result"
        }
      ],
      "source": [
        "X_test_ResNet.shape, X_test.shape"
      ]
    },
    {
      "cell_type": "code",
      "execution_count": null,
      "metadata": {
        "colab": {
          "base_uri": "https://localhost:8080/"
        },
        "id": "LDlb9fehLsfc",
        "outputId": "254b80f8-a08d-4346-c79f-a9969caf946b"
      },
      "outputs": [
        {
          "data": {
            "text/plain": [
              "array([1.03326179e-01, 2.71687555e+00, 6.16685629e-01, 1.58949383e-02,\n",
              "       2.71566153e+00, 6.59821630e-01, 1.70612109e+00, 9.93975177e-02,\n",
              "       0.00000000e+00, 9.32071567e-01, 0.00000000e+00, 4.82969970e-01,\n",
              "       2.11853123e+00, 4.63656187e-01, 1.19328952e+00, 9.02239799e-01,\n",
              "       7.65262023e-02, 1.48124957e+00, 2.05597711e+00, 0.00000000e+00,\n",
              "       5.34984827e-01, 1.40860543e-01, 1.49581283e-01, 4.60435003e-01,\n",
              "       1.10686731e+00, 1.49160314e+00, 1.28091797e-01, 1.91282153e+00,\n",
              "       2.20863461e+00, 4.60445940e-01, 2.86936164e+00, 1.35576323e-04,\n",
              "       0.00000000e+00, 0.00000000e+00, 1.08414054e+00, 5.23706675e-01,\n",
              "       1.81486353e-01, 0.00000000e+00, 9.76858199e-01, 9.61122394e-01,\n",
              "       1.08677256e+00, 1.20091867e-02, 6.21971488e-01, 4.96936232e-01,\n",
              "       1.41734409e+00, 1.44996345e+00, 0.00000000e+00, 2.51347106e-02,\n",
              "       9.89986360e-01, 8.73226643e-01, 5.57206154e-01, 3.57183307e-01,\n",
              "       0.00000000e+00, 2.40985136e-02, 1.51543438e-01, 3.13496619e-01,\n",
              "       1.87893823e-01, 0.00000000e+00, 1.32801533e+00, 6.97045803e-01,\n",
              "       1.16098857e+00, 8.54112148e-01, 0.00000000e+00, 2.24775863e+00,\n",
              "       5.13207838e-02, 1.73783541e+00, 7.98882246e-01, 1.75927311e-01,\n",
              "       1.71580791e+00, 1.02183476e-01, 0.00000000e+00, 2.89698899e-01,\n",
              "       0.00000000e+00, 1.28801525e-01, 0.00000000e+00, 6.38107955e-02,\n",
              "       2.36364231e-01, 1.87400365e+00, 1.39101386e+00, 1.16522217e+00,\n",
              "       0.00000000e+00, 1.29506874e+00, 1.86428428e-01, 8.06140006e-01,\n",
              "       1.52475417e+00, 3.91934849e-02, 0.00000000e+00, 2.64697261e-02,\n",
              "       0.00000000e+00, 1.18354809e+00, 5.96234739e-01, 2.85659695e+00,\n",
              "       6.51108205e-01, 4.19800868e-03, 5.13064265e-01, 1.16435431e-01,\n",
              "       2.46899080e+00, 4.62690055e-01, 0.00000000e+00, 0.00000000e+00,\n",
              "       4.09938693e-01, 9.13922668e-01, 6.55576587e-01, 9.20075402e-02,\n",
              "       6.50526136e-02, 2.69723833e-01, 1.87074077e+00, 1.07141805e+00,\n",
              "       4.86356020e-01, 9.40917879e-02, 0.00000000e+00, 1.74827084e-01,\n",
              "       1.03236163e+00, 0.00000000e+00, 3.28922331e-01, 2.93758586e-02,\n",
              "       2.59035349e+00, 5.92160344e-01, 6.67420700e-02, 1.31262994e+00,\n",
              "       2.01866055e+00, 1.35860825e+00, 2.53973693e-01, 0.00000000e+00,\n",
              "       2.59548330e+00, 4.67195243e-01, 1.09606519e-01, 1.11895852e-01,\n",
              "       1.27834558e+00, 6.28879786e-01, 0.00000000e+00, 2.88518429e-01,\n",
              "       1.43777108e+00, 4.83620018e-01, 1.65065467e-01, 7.31713057e-01,\n",
              "       3.58471096e-01, 0.00000000e+00, 3.25487405e-01, 0.00000000e+00,\n",
              "       9.45182294e-02, 0.00000000e+00, 7.67492503e-03, 0.00000000e+00,\n",
              "       1.50276887e+00, 2.48481538e-02, 0.00000000e+00, 1.13146901e+00,\n",
              "       8.92852321e-02, 3.54022592e-01, 7.87427247e-01, 4.38933671e-01,\n",
              "       1.62810817e-01, 1.03695095e+00, 1.56381175e-01, 2.44955093e-01,\n",
              "       6.62780166e-01, 0.00000000e+00, 8.64147067e-01, 4.07302976e-01,\n",
              "       8.13283324e-01, 0.00000000e+00, 2.47468853e+00, 7.18369901e-01,\n",
              "       2.65779471e+00, 2.03027964e-01, 7.43248701e-01, 1.22178636e-01,\n",
              "       1.72175527e+00, 9.88184810e-01, 5.76138139e-01, 1.39307523e+00,\n",
              "       3.26844454e-02, 5.85395813e-01, 1.50961205e-01, 3.14493835e-01,\n",
              "       5.62762879e-02, 1.76045465e+00, 0.00000000e+00, 3.08515698e-01,\n",
              "       1.92861271e+00, 2.52618808e-02, 1.33413446e+00, 1.77223459e-01,\n",
              "       4.38158885e-02, 7.51424611e-01, 8.72382164e-01, 0.00000000e+00,\n",
              "       1.52828515e+00, 1.67540443e+00, 4.35030043e-01, 4.48142201e-01,\n",
              "       6.73588812e-02, 1.23873639e+00, 5.45521915e-01, 4.83285517e-01,\n",
              "       1.48866802e-01, 1.36870770e-02, 0.00000000e+00, 0.00000000e+00,\n",
              "       1.99939442e+00, 1.84632614e-02, 1.21005034e+00, 0.00000000e+00,\n",
              "       2.08974212e-01, 0.00000000e+00, 1.01424205e+00, 1.03633785e+00,\n",
              "       8.28138471e-01, 2.34781241e+00, 9.36835170e-01, 2.27540076e-01,\n",
              "       6.03238225e-01, 8.65415812e-01, 9.81672406e-01, 0.00000000e+00,\n",
              "       1.77541280e+00, 1.26226854e+00, 1.12912059e-01, 0.00000000e+00,\n",
              "       1.35502040e+00, 0.00000000e+00, 7.41326332e-01, 9.37214315e-01,\n",
              "       2.77828984e-02, 5.55458069e-01, 1.97595084e+00, 7.21597150e-02,\n",
              "       0.00000000e+00, 1.99463832e+00, 0.00000000e+00, 4.01432037e-01,\n",
              "       1.77556598e+00, 2.61864871e-01, 1.95634186e-01, 1.17404568e+00,\n",
              "       1.67280450e-01, 0.00000000e+00, 1.20227272e-03, 3.48722637e-01,\n",
              "       3.76695395e-01, 2.45087600e+00, 1.09079623e+00, 2.46732503e-01,\n",
              "       2.25197744e+00, 4.76592332e-01, 7.23829046e-02, 9.56396580e-01,\n",
              "       1.77320912e-01, 1.12284279e+00, 1.37393618e+00, 3.29594731e-01,\n",
              "       6.52471066e-01, 2.80436099e-01, 1.42396522e+00, 6.40397072e-01,\n",
              "       6.00856841e-01, 2.38206053e+00, 9.40970659e-01, 3.46807539e-01,\n",
              "       3.16093355e-01, 1.90010989e+00, 2.92003632e-01, 1.68613780e+00,\n",
              "       2.51219213e-01, 5.07888973e-01, 7.96712637e-01, 5.66422284e-01,\n",
              "       5.75870931e-01, 3.08289003e+00, 8.99921417e-01, 5.04166298e-02,\n",
              "       1.68169165e+00, 7.58790493e-01, 9.61897671e-01, 8.19899380e-01,\n",
              "       3.44084769e-01, 0.00000000e+00, 1.19843161e+00, 1.91326451e+00,\n",
              "       2.10634780e+00, 0.00000000e+00, 0.00000000e+00, 8.13161075e-01,\n",
              "       1.71708792e-01, 1.70649791e+00, 2.08176747e-01, 5.93573511e-01,\n",
              "       0.00000000e+00, 8.91545355e-01, 3.91047001e-02, 2.63097972e-01,\n",
              "       4.17243212e-01, 1.03650713e+00, 1.12821758e-01, 1.97421873e+00,\n",
              "       1.95765477e-02, 2.07228613e+00, 1.67841768e+00, 1.81656885e+00,\n",
              "       4.90084231e-01, 2.18613103e-01, 2.07315207e+00, 7.90981412e-01,\n",
              "       2.85430223e-01, 8.04505274e-02, 1.55170262e-01, 2.61363745e-01,\n",
              "       1.63287055e-02, 1.15566444e+00, 0.00000000e+00, 0.00000000e+00,\n",
              "       5.11100471e-01, 3.04748565e-02, 3.48392308e-01, 1.28514194e+00,\n",
              "       2.09388211e-01, 1.25354862e+00, 6.50999844e-01, 1.18041277e-01,\n",
              "       0.00000000e+00, 2.44568825e+00, 1.01130581e+00, 2.68898338e-01,\n",
              "       0.00000000e+00, 6.28920853e-01, 8.36342335e-01, 2.08544922e+00,\n",
              "       1.70400739e+00, 4.82320309e-01, 3.24836075e-01, 1.44033587e+00,\n",
              "       4.36465889e-01, 2.15560818e+00, 0.00000000e+00, 1.44356382e+00,\n",
              "       2.49744743e-01, 1.67061615e+00, 8.05839419e-01, 1.26019466e+00,\n",
              "       0.00000000e+00, 7.64912605e-01, 1.43860281e-01, 7.31887400e-01,\n",
              "       1.34396955e-01, 1.21697806e-01, 2.41414994e-01, 9.26463485e-01,\n",
              "       0.00000000e+00, 7.82443285e-01, 9.35926139e-01, 3.38506281e-01,\n",
              "       3.68619487e-02, 3.25777918e-01, 9.47748959e-01, 0.00000000e+00,\n",
              "       2.51067233e+00, 3.41749549e-01, 0.00000000e+00, 7.22881258e-01,\n",
              "       4.16410342e-03, 8.73232365e-01, 6.64043963e-01, 1.08385496e-01,\n",
              "       7.86427736e-01, 1.39297724e+00, 1.44763017e+00, 1.66813537e-01,\n",
              "       3.31162699e-02, 3.21316540e-01, 9.97148007e-02, 1.25959534e-02,\n",
              "       0.00000000e+00, 0.00000000e+00, 4.95312393e-01, 1.03045173e-01,\n",
              "       3.69154662e-01, 5.06177664e-01, 2.58876705e+00, 1.32176232e+00,\n",
              "       7.56070495e-01, 0.00000000e+00, 8.91201854e-01, 7.20612764e-01,\n",
              "       7.48629332e-01, 0.00000000e+00, 7.26810619e-02, 0.00000000e+00,\n",
              "       2.81458676e-01, 2.99131870e-02, 0.00000000e+00, 1.81029677e+00,\n",
              "       6.96912527e-01, 1.37804651e+00, 2.51904607e-01, 1.24352729e+00,\n",
              "       1.13470376e+00, 3.30856889e-01, 3.69076103e-01, 2.27629647e-01,\n",
              "       7.40452766e-01, 2.28184605e+00, 4.89897102e-01, 1.01461029e+00,\n",
              "       4.28920925e-01, 2.73377895e-01, 2.58368850e+00, 2.18325520e+00,\n",
              "       4.16157156e-01, 1.37667465e+00, 2.33805086e-02, 6.70922279e-01,\n",
              "       2.76081711e-01, 3.65233749e-01, 5.24303019e-01, 0.00000000e+00,\n",
              "       1.47231531e+00, 1.02739561e+00, 5.48345029e-01, 2.82905757e-01,\n",
              "       1.70576368e-02, 2.01393890e+00, 8.48955154e-01, 0.00000000e+00,\n",
              "       4.62720871e-01, 2.83448339e-01, 4.81609464e-01, 1.22570562e+00,\n",
              "       9.47921216e-01, 1.44475019e+00, 2.05140209e+00, 1.59702852e-01,\n",
              "       3.02522331e-01, 3.00485075e-01, 1.85039386e-01, 7.24170208e-01,\n",
              "       0.00000000e+00, 8.20176482e-01, 1.58820343e+00, 8.65422785e-02,\n",
              "       0.00000000e+00, 1.09648615e-01, 1.06874597e+00, 4.38380897e-01,\n",
              "       3.81841026e-02, 8.99038076e-01, 9.81388748e-01, 3.17013562e-02,\n",
              "       2.25285029e+00, 5.32944083e-01, 0.00000000e+00, 5.65051973e-01,\n",
              "       1.23721957e+00, 1.91296577e-01, 7.05881059e-01, 1.62457585e+00,\n",
              "       0.00000000e+00, 4.65441257e-01, 1.05677915e+00, 1.96162903e+00,\n",
              "       3.03953111e-01, 6.91814601e-01, 1.78905539e-02, 4.16787378e-02,\n",
              "       9.23287034e-01, 2.26326287e-01, 1.22562551e+00, 5.37903786e-01,\n",
              "       1.87702656e+00, 4.23109122e-02, 2.01336527e+00, 7.31760085e-01,\n",
              "       5.71378887e-01, 1.94764233e+00, 8.48774970e-01, 6.26619816e-01,\n",
              "       2.71531487e+00, 2.43380815e-01, 5.26015282e-01, 1.54601023e-01,\n",
              "       5.77379644e-01, 2.78688222e-01, 0.00000000e+00, 7.51508653e-01,\n",
              "       3.56697142e-02, 7.25234926e-01, 8.00132811e-01, 1.88347459e-01,\n",
              "       8.90574455e-01, 1.93681926e-01, 1.84719992e+00, 0.00000000e+00,\n",
              "       2.70254254e-01, 7.40052581e-01, 0.00000000e+00, 6.91926122e-01,\n",
              "       6.80820704e-01, 0.00000000e+00, 1.12358391e+00, 6.57087564e-01,\n",
              "       9.39536631e-01, 0.00000000e+00, 2.58388090e+00, 1.24762533e-03,\n",
              "       1.11856389e+00, 9.50628519e-01, 2.91008592e-01, 0.00000000e+00,\n",
              "       1.14065802e+00, 4.28127378e-01, 9.32325363e-01, 4.75550056e-01],\n",
              "      dtype=float32)"
            ]
          },
          "execution_count": 31,
          "metadata": {},
          "output_type": "execute_result"
        }
      ],
      "source": [
        "X_test_ResNet[0]"
      ]
    },
    {
      "cell_type": "code",
      "execution_count": null,
      "metadata": {
        "colab": {
          "base_uri": "https://localhost:8080/"
        },
        "id": "Jo0B_vWIK-Ab",
        "outputId": "ebc73d30-b753-4ede-e596-a76c15a85f85"
      },
      "outputs": [
        {
          "data": {
            "text/plain": [
              "(5130,)"
            ]
          },
          "execution_count": 19,
          "metadata": {},
          "output_type": "execute_result"
        }
      ],
      "source": [
        "y_test.shape"
      ]
    },
    {
      "cell_type": "code",
      "execution_count": null,
      "metadata": {
        "colab": {
          "base_uri": "https://localhost:8080/",
          "height": 380
        },
        "id": "uUO50gLrA3wT",
        "outputId": "fc8bf40e-d042-4d43-d482-892c7e1baffa"
      },
      "outputs": [
        {
          "ename": "ValueError",
          "evalue": "ignored",
          "output_type": "error",
          "traceback": [
            "\u001b[0;31m---------------------------------------------------------------------------\u001b[0m",
            "\u001b[0;31mValueError\u001b[0m                                Traceback (most recent call last)",
            "\u001b[0;32m<ipython-input-22-4b530f73fad6>\u001b[0m in \u001b[0;36m<module>\u001b[0;34m\u001b[0m\n\u001b[1;32m      1\u001b[0m \u001b[0;31m# Adicionei isso 16/08\u001b[0m\u001b[0;34m\u001b[0m\u001b[0;34m\u001b[0m\u001b[0;34m\u001b[0m\u001b[0m\n\u001b[0;32m----> 2\u001b[0;31m print(\"\\nAcurácia: \", accuracy_score(y_test, X_test_ResNet[0]),\n\u001b[0m\u001b[1;32m      3\u001b[0m       \u001b[0;34m\"\\nPrecisão: \"\u001b[0m\u001b[0;34m,\u001b[0m \u001b[0mprecision_score\u001b[0m\u001b[0;34m(\u001b[0m\u001b[0my_test\u001b[0m\u001b[0;34m,\u001b[0m \u001b[0mX_test_ResNet\u001b[0m\u001b[0;34m[\u001b[0m\u001b[0;36m0\u001b[0m\u001b[0;34m]\u001b[0m\u001b[0;34m,\u001b[0m \u001b[0maverage\u001b[0m\u001b[0;34m=\u001b[0m\u001b[0;34m\"macro\"\u001b[0m\u001b[0;34m)\u001b[0m\u001b[0;34m,\u001b[0m\u001b[0;34m\u001b[0m\u001b[0;34m\u001b[0m\u001b[0m\n\u001b[1;32m      4\u001b[0m       \u001b[0;34m\"\\nRecall: \"\u001b[0m\u001b[0;34m,\u001b[0m \u001b[0mrecall_score\u001b[0m\u001b[0;34m(\u001b[0m\u001b[0my_test\u001b[0m\u001b[0;34m,\u001b[0m \u001b[0mX_test_ResNet\u001b[0m\u001b[0;34m[\u001b[0m\u001b[0;36m0\u001b[0m\u001b[0;34m]\u001b[0m\u001b[0;34m,\u001b[0m \u001b[0maverage\u001b[0m\u001b[0;34m=\u001b[0m\u001b[0;34m\"macro\"\u001b[0m\u001b[0;34m)\u001b[0m\u001b[0;34m,\u001b[0m\u001b[0;34m\u001b[0m\u001b[0;34m\u001b[0m\u001b[0m\n\u001b[1;32m      5\u001b[0m       \u001b[0;34m\"\\nF1 Score: \"\u001b[0m\u001b[0;34m,\u001b[0m \u001b[0mf1_score\u001b[0m\u001b[0;34m(\u001b[0m\u001b[0my_test\u001b[0m\u001b[0;34m,\u001b[0m \u001b[0mX_test_ResNet\u001b[0m\u001b[0;34m[\u001b[0m\u001b[0;36m0\u001b[0m\u001b[0;34m]\u001b[0m\u001b[0;34m,\u001b[0m \u001b[0maverage\u001b[0m\u001b[0;34m=\u001b[0m\u001b[0;34m\"macro\"\u001b[0m\u001b[0;34m)\u001b[0m\u001b[0;34m,\u001b[0m\u001b[0;34m\u001b[0m\u001b[0;34m\u001b[0m\u001b[0m\n",
            "\u001b[0;32m/usr/local/lib/python3.7/dist-packages/sklearn/metrics/_classification.py\u001b[0m in \u001b[0;36maccuracy_score\u001b[0;34m(y_true, y_pred, normalize, sample_weight)\u001b[0m\n\u001b[1;32m    209\u001b[0m \u001b[0;34m\u001b[0m\u001b[0m\n\u001b[1;32m    210\u001b[0m     \u001b[0;31m# Compute accuracy for each possible representation\u001b[0m\u001b[0;34m\u001b[0m\u001b[0;34m\u001b[0m\u001b[0;34m\u001b[0m\u001b[0m\n\u001b[0;32m--> 211\u001b[0;31m     \u001b[0my_type\u001b[0m\u001b[0;34m,\u001b[0m \u001b[0my_true\u001b[0m\u001b[0;34m,\u001b[0m \u001b[0my_pred\u001b[0m \u001b[0;34m=\u001b[0m \u001b[0m_check_targets\u001b[0m\u001b[0;34m(\u001b[0m\u001b[0my_true\u001b[0m\u001b[0;34m,\u001b[0m \u001b[0my_pred\u001b[0m\u001b[0;34m)\u001b[0m\u001b[0;34m\u001b[0m\u001b[0;34m\u001b[0m\u001b[0m\n\u001b[0m\u001b[1;32m    212\u001b[0m     \u001b[0mcheck_consistent_length\u001b[0m\u001b[0;34m(\u001b[0m\u001b[0my_true\u001b[0m\u001b[0;34m,\u001b[0m \u001b[0my_pred\u001b[0m\u001b[0;34m,\u001b[0m \u001b[0msample_weight\u001b[0m\u001b[0;34m)\u001b[0m\u001b[0;34m\u001b[0m\u001b[0;34m\u001b[0m\u001b[0m\n\u001b[1;32m    213\u001b[0m     \u001b[0;32mif\u001b[0m \u001b[0my_type\u001b[0m\u001b[0;34m.\u001b[0m\u001b[0mstartswith\u001b[0m\u001b[0;34m(\u001b[0m\u001b[0;34m\"multilabel\"\u001b[0m\u001b[0;34m)\u001b[0m\u001b[0;34m:\u001b[0m\u001b[0;34m\u001b[0m\u001b[0;34m\u001b[0m\u001b[0m\n",
            "\u001b[0;32m/usr/local/lib/python3.7/dist-packages/sklearn/metrics/_classification.py\u001b[0m in \u001b[0;36m_check_targets\u001b[0;34m(y_true, y_pred)\u001b[0m\n\u001b[1;32m     82\u001b[0m     \u001b[0my_pred\u001b[0m \u001b[0;34m:\u001b[0m \u001b[0marray\u001b[0m \u001b[0;32mor\u001b[0m \u001b[0mindicator\u001b[0m \u001b[0mmatrix\u001b[0m\u001b[0;34m\u001b[0m\u001b[0;34m\u001b[0m\u001b[0m\n\u001b[1;32m     83\u001b[0m     \"\"\"\n\u001b[0;32m---> 84\u001b[0;31m     \u001b[0mcheck_consistent_length\u001b[0m\u001b[0;34m(\u001b[0m\u001b[0my_true\u001b[0m\u001b[0;34m,\u001b[0m \u001b[0my_pred\u001b[0m\u001b[0;34m)\u001b[0m\u001b[0;34m\u001b[0m\u001b[0;34m\u001b[0m\u001b[0m\n\u001b[0m\u001b[1;32m     85\u001b[0m     \u001b[0mtype_true\u001b[0m \u001b[0;34m=\u001b[0m \u001b[0mtype_of_target\u001b[0m\u001b[0;34m(\u001b[0m\u001b[0my_true\u001b[0m\u001b[0;34m)\u001b[0m\u001b[0;34m\u001b[0m\u001b[0;34m\u001b[0m\u001b[0m\n\u001b[1;32m     86\u001b[0m     \u001b[0mtype_pred\u001b[0m \u001b[0;34m=\u001b[0m \u001b[0mtype_of_target\u001b[0m\u001b[0;34m(\u001b[0m\u001b[0my_pred\u001b[0m\u001b[0;34m)\u001b[0m\u001b[0;34m\u001b[0m\u001b[0;34m\u001b[0m\u001b[0m\n",
            "\u001b[0;32m/usr/local/lib/python3.7/dist-packages/sklearn/utils/validation.py\u001b[0m in \u001b[0;36mcheck_consistent_length\u001b[0;34m(*arrays)\u001b[0m\n\u001b[1;32m    332\u001b[0m         raise ValueError(\n\u001b[1;32m    333\u001b[0m             \u001b[0;34m\"Found input variables with inconsistent numbers of samples: %r\"\u001b[0m\u001b[0;34m\u001b[0m\u001b[0;34m\u001b[0m\u001b[0m\n\u001b[0;32m--> 334\u001b[0;31m             \u001b[0;34m%\u001b[0m \u001b[0;34m[\u001b[0m\u001b[0mint\u001b[0m\u001b[0;34m(\u001b[0m\u001b[0ml\u001b[0m\u001b[0;34m)\u001b[0m \u001b[0;32mfor\u001b[0m \u001b[0ml\u001b[0m \u001b[0;32min\u001b[0m \u001b[0mlengths\u001b[0m\u001b[0;34m]\u001b[0m\u001b[0;34m\u001b[0m\u001b[0;34m\u001b[0m\u001b[0m\n\u001b[0m\u001b[1;32m    335\u001b[0m         )\n\u001b[1;32m    336\u001b[0m \u001b[0;34m\u001b[0m\u001b[0m\n",
            "\u001b[0;31mValueError\u001b[0m: Found input variables with inconsistent numbers of samples: [5130, 512]"
          ]
        }
      ],
      "source": [
        "# Adicionei isso 16/08\n",
        "print(\"\\nAcurácia: \", accuracy_score(y_test, X_test_ResNet[0]),\n",
        "      \"\\nPrecisão: \", precision_score(y_test, X_test_ResNet[0], average=\"macro\"),\n",
        "      \"\\nRecall: \", recall_score(y_test, X_test_ResNet[0], average=\"macro\"),\n",
        "      \"\\nF1 Score: \", f1_score(y_test, X_test_ResNet[0], average=\"macro\"),\n",
        "      )"
      ]
    },
    {
      "cell_type": "markdown",
      "metadata": {
        "id": "ZFCoOhUR9x7C"
      },
      "source": [
        "## Aplicação do SVM nas características extraídas pela ResNet18"
      ]
    },
    {
      "cell_type": "code",
      "execution_count": null,
      "metadata": {
        "id": "Wu6sH8WQYYxI"
      },
      "outputs": [],
      "source": [
        "clf = SVC(C=10) # Aqui é aplicado o OvR por padrão\n",
        "clf.fit(X_train_ResNet, y_train)\n",
        "y_pred = clf.predict(X_test_ResNet)"
      ]
    },
    {
      "cell_type": "markdown",
      "metadata": {
        "id": "Didm-v6j90OE"
      },
      "source": [
        "## Métricas de avaliação"
      ]
    },
    {
      "cell_type": "code",
      "execution_count": null,
      "metadata": {
        "colab": {
          "base_uri": "https://localhost:8080/"
        },
        "id": "3TPse9nnLTFi",
        "outputId": "e87bbd91-2372-416c-8ff2-028000bf045d"
      },
      "outputs": [
        {
          "data": {
            "text/plain": [
              "(5130,)"
            ]
          },
          "execution_count": 21,
          "metadata": {},
          "output_type": "execute_result"
        }
      ],
      "source": [
        "y_pred.shape"
      ]
    },
    {
      "cell_type": "code",
      "execution_count": null,
      "metadata": {
        "colab": {
          "base_uri": "https://localhost:8080/"
        },
        "id": "NYQ-YdObab1g",
        "outputId": "1a227b92-a581-471e-d1cd-1934bf7aeaac"
      },
      "outputs": [
        {
          "name": "stdout",
          "output_type": "stream",
          "text": [
            "\n",
            "Acurácia:  0.9729044834307993 \n",
            "Precisão:  0.9711629400082011 \n",
            "Recall:  0.9691220109511918 \n",
            "F1 Score:  0.9700422322032468\n"
          ]
        }
      ],
      "source": [
        "print(\"\\nAcurácia: \", accuracy_score(y_test, y_pred),\n",
        "      \"\\nPrecisão: \", precision_score(y_test, y_pred, average=\"macro\"),\n",
        "      \"\\nRecall: \", recall_score(y_test, y_pred, average=\"macro\"),\n",
        "      \"\\nF1 Score: \", f1_score(y_test, y_pred, average=\"macro\"),\n",
        "      )"
      ]
    },
    {
      "cell_type": "code",
      "execution_count": null,
      "metadata": {
        "id": "zA0EVss-N-8S"
      },
      "outputs": [],
      "source": [
        "lista_labels_pt = [\"basófilo\", \"eosinófilo\", \"eritoblasto\", \"granulóc. imat.\", \"linfócito\", \"monócito\", \"neutrófilo\", \"plaqueta\"]"
      ]
    },
    {
      "cell_type": "code",
      "execution_count": null,
      "metadata": {
        "colab": {
          "base_uri": "https://localhost:8080/",
          "height": 580
        },
        "id": "Jsk6yIzARHte",
        "outputId": "db46272f-39dc-4378-fd79-774417dd7ca8"
      },
      "outputs": [
        {
          "data": {
            "text/plain": [
              "Text(187.30000000000013, 0.5, 'Classe real')"
            ]
          },
          "execution_count": 56,
          "metadata": {},
          "output_type": "execute_result"
        },
        {
          "data": {
            "image/png": "[encoded data removed]",
            "text/plain": [
              "<Figure size 864x576 with 2 Axes>"
            ]
          },
          "metadata": {},
          "output_type": "display_data"
        }
      ],
      "source": [
        "import seaborn as sns\n",
        "plt.figure(figsize=(12, 8))\n",
        "ax = sns.heatmap(confusion_matrix(y_true=y_test, y_pred=y_pred), # linhas = true label; colunas = predicted label\n",
        "                 xticklabels=lista_labels_pt, yticklabels=lista_labels_pt, fmt=\"d\", annot=True, square=True)\n",
        "ax.set_xlabel(\"Classe predita\")\n",
        "ax.set_ylabel(\"Classe real\")"
      ]
    },
    {
      "cell_type": "code",
      "execution_count": null,
      "metadata": {
        "colab": {
          "base_uri": "https://localhost:8080/",
          "height": 584
        },
        "id": "dPF-e4kNMcn3",
        "outputId": "6a4d63a5-4aaa-42bf-8eb9-b4a322f8494b"
      },
      "outputs": [
        {
          "data": {
            "text/plain": [
              "Text(187.30000000000013, 0.5, 'Classe real')"
            ]
          },
          "execution_count": 61,
          "metadata": {},
          "output_type": "execute_result"
        },
        {
          "data": {
            "image/png": "[encoded data removed]",
            "text/plain": [
              "<Figure size 864x576 with 2 Axes>"
            ]
          },
          "metadata": {},
          "output_type": "display_data"
        }
      ],
      "source": [
        "import seaborn as sns\n",
        "plt.figure(figsize=(12, 8))\n",
        "ax = sns.heatmap(confusion_matrix(y_true=y_test, y_pred=y_pred, normalize=\"true\"), # linhas = true label; colunas = predicted label\n",
        "                 xticklabels=lista_labels_pt, yticklabels=lista_labels_pt, annot=True, square=True, fmt=\".2%\", cmap=\"magma\")\n",
        "ax.set_xlabel(\"Classe predita\")\n",
        "ax.set_ylabel(\"Classe real\")"
      ]
    },
    {
      "cell_type": "markdown",
      "source": [
        "## Verificar se o modelo está com alta variância ou alto viés"
      ],
      "metadata": {
        "id": "fMt4T5I50D6t"
      }
    },
    {
      "cell_type": "code",
      "execution_count": null,
      "metadata": {
        "id": "BzTcFMKAWx43"
      },
      "outputs": [],
      "source": [
        "acc = [0.] + history.history['accuracy']\n",
        "val_acc = [0.] + history.history['val_accuracy']\n",
        "\n",
        "loss = history.history['loss']\n",
        "val_loss = history.history['val_loss']\n",
        "\n",
        "plt.figure(figsize=(8, 8))\n",
        "plt.subplot(2, 1, 1)\n",
        "plt.plot(acc, label='Training Accuracy')\n",
        "plt.plot(val_acc, label='Validation Accuracy')\n",
        "plt.legend(loc='lower right')\n",
        "plt.ylabel('Accuracy')\n",
        "plt.ylim([min(plt.ylim()),1])\n",
        "plt.title('Training and Validation Accuracy')\n",
        "\n",
        "plt.subplot(2, 1, 2)\n",
        "plt.plot(loss, label='Training Loss')\n",
        "plt.plot(val_loss, label='Validation Loss')\n",
        "plt.legend(loc='upper right')\n",
        "plt.ylabel('Cross Entropy')\n",
        "plt.ylim([0,1.0])\n",
        "plt.title('Training and Validation Loss')\n",
        "plt.xlabel('epoch')\n",
        "plt.show()"
      ]
    }
  ],
  "metadata": {
    "accelerator": "GPU",
    "colab": {
      "collapsed_sections": [],
      "provenance": []
    },
    "gpuClass": "standard",
    "kernelspec": {
      "display_name": "Python 3",
      "name": "python3"
    },
    "language_info": {
      "name": "python"
    }
  },
  "nbformat": 4,
  "nbformat_minor": 0
}