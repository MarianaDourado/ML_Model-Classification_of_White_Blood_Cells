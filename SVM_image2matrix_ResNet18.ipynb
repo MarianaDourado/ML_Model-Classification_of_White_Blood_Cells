{
  "nbformat": 4,
  "nbformat_minor": 0,
  "metadata": {
    "colab": {
      "name": "White_Blood_Cells_Classification-SVM-image2matrix-ResNet18",
      "provenance": [],
      "collapsed_sections": []
    },
    "kernelspec": {
      "name": "python3",
      "display_name": "Python 3"
    },
    "language_info": {
      "name": "python"
    },
    "accelerator": "GPU"
  },
  "cells": [
    {
      "cell_type": "code",
      "execution_count": null,
      "metadata": {
        "colab": {
          "base_uri": "https://localhost:8080/"
        },
        "id": "I-b2ORciwxm2",
        "outputId": "05fe4289-9355-4b43-d584-4bfd85ab6f77"
      },
      "outputs": [
        {
          "output_type": "stream",
          "name": "stdout",
          "text": [
            "Mounted at /content/drive\n"
          ]
        }
      ],
      "source": [
        "from google.colab import drive\n",
        "drive.mount('/content/drive')"
      ]
    },
    {
      "cell_type": "code",
      "source": [
        "!unzip \"/content/drive/path/input_file_name.zip\" -d \"/content/drive/path/output_folder/\""
      ],
      "metadata": {
        "id": "cEM3NhKCwb0Q",
        "colab": {
          "base_uri": "https://localhost:8080/"
        },
        "outputId": "0d317f91-4877-4b92-facb-fadbc6e1975f"
      },
      "execution_count": null,
      "outputs": [
        {
          "output_type": "stream",
          "name": "stdout",
          "text": [
            "unzip:  cannot find or open /content/drive/path/input_file_name.zip, /content/drive/path/input_file_name.zip.zip or /content/drive/path/input_file_name.zip.ZIP.\n"
          ]
        }
      ]
    },
    {
      "cell_type": "code",
      "source": [
        "!pip install git+https://github.com/qubvel/classification_models.git"
      ],
      "metadata": {
        "colab": {
          "base_uri": "https://localhost:8080/"
        },
        "id": "cQ1wZgV5PGT6",
        "outputId": "ccb0c036-55c4-4ac5-be5c-59c34c2af8e5"
      },
      "execution_count": null,
      "outputs": [
        {
          "output_type": "stream",
          "name": "stdout",
          "text": [
            "Collecting git+https://github.com/qubvel/classification_models.git\n",
            "  Cloning https://github.com/qubvel/classification_models.git to /tmp/pip-req-build-6393cbx7\n",
            "  Running command git clone -q https://github.com/qubvel/classification_models.git /tmp/pip-req-build-6393cbx7\n",
            "  Running command git submodule update --init --recursive -q\n",
            "Requirement already satisfied: keras_applications<=1.0.8,>=1.0.7 in /usr/local/lib/python3.7/dist-packages (from image-classifiers==1.0.0) (1.0.8)\n",
            "Requirement already satisfied: h5py in /usr/local/lib/python3.7/dist-packages (from keras_applications<=1.0.8,>=1.0.7->image-classifiers==1.0.0) (3.1.0)\n",
            "Requirement already satisfied: numpy>=1.9.1 in /usr/local/lib/python3.7/dist-packages (from keras_applications<=1.0.8,>=1.0.7->image-classifiers==1.0.0) (1.21.5)\n",
            "Requirement already satisfied: cached-property in /usr/local/lib/python3.7/dist-packages (from h5py->keras_applications<=1.0.8,>=1.0.7->image-classifiers==1.0.0) (1.5.2)\n"
          ]
        }
      ]
    },
    {
      "cell_type": "code",
      "source": [
        "!pip install tensorflow"
      ],
      "metadata": {
        "colab": {
          "base_uri": "https://localhost:8080/"
        },
        "id": "M_R3g3DzSY_p",
        "outputId": "a481b7ba-e093-49d8-d74c-574c2ca9f307"
      },
      "execution_count": null,
      "outputs": [
        {
          "output_type": "stream",
          "name": "stdout",
          "text": [
            "Requirement already satisfied: tensorflow in /usr/local/lib/python3.7/dist-packages (2.8.0)\n",
            "Requirement already satisfied: keras<2.9,>=2.8.0rc0 in /usr/local/lib/python3.7/dist-packages (from tensorflow) (2.8.0)\n",
            "Requirement already satisfied: absl-py>=0.4.0 in /usr/local/lib/python3.7/dist-packages (from tensorflow) (1.0.0)\n",
            "Requirement already satisfied: astunparse>=1.6.0 in /usr/local/lib/python3.7/dist-packages (from tensorflow) (1.6.3)\n",
            "Requirement already satisfied: libclang>=9.0.1 in /usr/local/lib/python3.7/dist-packages (from tensorflow) (13.0.0)\n",
            "Requirement already satisfied: tensorflow-io-gcs-filesystem>=0.23.1 in /usr/local/lib/python3.7/dist-packages (from tensorflow) (0.24.0)\n",
            "Requirement already satisfied: gast>=0.2.1 in /usr/local/lib/python3.7/dist-packages (from tensorflow) (0.5.3)\n",
            "Requirement already satisfied: termcolor>=1.1.0 in /usr/local/lib/python3.7/dist-packages (from tensorflow) (1.1.0)\n",
            "Requirement already satisfied: protobuf>=3.9.2 in /usr/local/lib/python3.7/dist-packages (from tensorflow) (3.17.3)\n",
            "Requirement already satisfied: six>=1.12.0 in /usr/local/lib/python3.7/dist-packages (from tensorflow) (1.15.0)\n",
            "Requirement already satisfied: opt-einsum>=2.3.2 in /usr/local/lib/python3.7/dist-packages (from tensorflow) (3.3.0)\n",
            "Requirement already satisfied: tensorboard<2.9,>=2.8 in /usr/local/lib/python3.7/dist-packages (from tensorflow) (2.8.0)\n",
            "Requirement already satisfied: keras-preprocessing>=1.1.1 in /usr/local/lib/python3.7/dist-packages (from tensorflow) (1.1.2)\n",
            "Requirement already satisfied: typing-extensions>=3.6.6 in /usr/local/lib/python3.7/dist-packages (from tensorflow) (3.10.0.2)\n",
            "Requirement already satisfied: google-pasta>=0.1.1 in /usr/local/lib/python3.7/dist-packages (from tensorflow) (0.2.0)\n",
            "Collecting tf-estimator-nightly==2.8.0.dev2021122109\n",
            "  Downloading tf_estimator_nightly-2.8.0.dev2021122109-py2.py3-none-any.whl (462 kB)\n",
            "\u001b[K     |████████████████████████████████| 462 kB 4.3 MB/s \n",
            "\u001b[?25hRequirement already satisfied: wrapt>=1.11.0 in /usr/local/lib/python3.7/dist-packages (from tensorflow) (1.13.3)\n",
            "Requirement already satisfied: setuptools in /usr/local/lib/python3.7/dist-packages (from tensorflow) (57.4.0)\n",
            "Requirement already satisfied: flatbuffers>=1.12 in /usr/local/lib/python3.7/dist-packages (from tensorflow) (2.0)\n",
            "Requirement already satisfied: h5py>=2.9.0 in /usr/local/lib/python3.7/dist-packages (from tensorflow) (3.1.0)\n",
            "Requirement already satisfied: numpy>=1.20 in /usr/local/lib/python3.7/dist-packages (from tensorflow) (1.21.5)\n",
            "Requirement already satisfied: grpcio<2.0,>=1.24.3 in /usr/local/lib/python3.7/dist-packages (from tensorflow) (1.44.0)\n",
            "Requirement already satisfied: wheel<1.0,>=0.23.0 in /usr/local/lib/python3.7/dist-packages (from astunparse>=1.6.0->tensorflow) (0.37.1)\n",
            "Requirement already satisfied: cached-property in /usr/local/lib/python3.7/dist-packages (from h5py>=2.9.0->tensorflow) (1.5.2)\n",
            "Requirement already satisfied: tensorboard-plugin-wit>=1.6.0 in /usr/local/lib/python3.7/dist-packages (from tensorboard<2.9,>=2.8->tensorflow) (1.8.1)\n",
            "Requirement already satisfied: markdown>=2.6.8 in /usr/local/lib/python3.7/dist-packages (from tensorboard<2.9,>=2.8->tensorflow) (3.3.6)\n",
            "Requirement already satisfied: werkzeug>=0.11.15 in /usr/local/lib/python3.7/dist-packages (from tensorboard<2.9,>=2.8->tensorflow) (1.0.1)\n",
            "Requirement already satisfied: requests<3,>=2.21.0 in /usr/local/lib/python3.7/dist-packages (from tensorboard<2.9,>=2.8->tensorflow) (2.23.0)\n",
            "Requirement already satisfied: google-auth<3,>=1.6.3 in /usr/local/lib/python3.7/dist-packages (from tensorboard<2.9,>=2.8->tensorflow) (1.35.0)\n",
            "Requirement already satisfied: tensorboard-data-server<0.7.0,>=0.6.0 in /usr/local/lib/python3.7/dist-packages (from tensorboard<2.9,>=2.8->tensorflow) (0.6.1)\n",
            "Requirement already satisfied: google-auth-oauthlib<0.5,>=0.4.1 in /usr/local/lib/python3.7/dist-packages (from tensorboard<2.9,>=2.8->tensorflow) (0.4.6)\n",
            "Requirement already satisfied: rsa<5,>=3.1.4 in /usr/local/lib/python3.7/dist-packages (from google-auth<3,>=1.6.3->tensorboard<2.9,>=2.8->tensorflow) (4.8)\n",
            "Requirement already satisfied: pyasn1-modules>=0.2.1 in /usr/local/lib/python3.7/dist-packages (from google-auth<3,>=1.6.3->tensorboard<2.9,>=2.8->tensorflow) (0.2.8)\n",
            "Requirement already satisfied: cachetools<5.0,>=2.0.0 in /usr/local/lib/python3.7/dist-packages (from google-auth<3,>=1.6.3->tensorboard<2.9,>=2.8->tensorflow) (4.2.4)\n",
            "Requirement already satisfied: requests-oauthlib>=0.7.0 in /usr/local/lib/python3.7/dist-packages (from google-auth-oauthlib<0.5,>=0.4.1->tensorboard<2.9,>=2.8->tensorflow) (1.3.1)\n",
            "Requirement already satisfied: importlib-metadata>=4.4 in /usr/local/lib/python3.7/dist-packages (from markdown>=2.6.8->tensorboard<2.9,>=2.8->tensorflow) (4.11.2)\n",
            "Requirement already satisfied: zipp>=0.5 in /usr/local/lib/python3.7/dist-packages (from importlib-metadata>=4.4->markdown>=2.6.8->tensorboard<2.9,>=2.8->tensorflow) (3.7.0)\n",
            "Requirement already satisfied: pyasn1<0.5.0,>=0.4.6 in /usr/local/lib/python3.7/dist-packages (from pyasn1-modules>=0.2.1->google-auth<3,>=1.6.3->tensorboard<2.9,>=2.8->tensorflow) (0.4.8)\n",
            "Requirement already satisfied: certifi>=2017.4.17 in /usr/local/lib/python3.7/dist-packages (from requests<3,>=2.21.0->tensorboard<2.9,>=2.8->tensorflow) (2021.10.8)\n",
            "Requirement already satisfied: idna<3,>=2.5 in /usr/local/lib/python3.7/dist-packages (from requests<3,>=2.21.0->tensorboard<2.9,>=2.8->tensorflow) (2.10)\n",
            "Requirement already satisfied: chardet<4,>=3.0.2 in /usr/local/lib/python3.7/dist-packages (from requests<3,>=2.21.0->tensorboard<2.9,>=2.8->tensorflow) (3.0.4)\n",
            "Requirement already satisfied: urllib3!=1.25.0,!=1.25.1,<1.26,>=1.21.1 in /usr/local/lib/python3.7/dist-packages (from requests<3,>=2.21.0->tensorboard<2.9,>=2.8->tensorflow) (1.24.3)\n",
            "Requirement already satisfied: oauthlib>=3.0.0 in /usr/local/lib/python3.7/dist-packages (from requests-oauthlib>=0.7.0->google-auth-oauthlib<0.5,>=0.4.1->tensorboard<2.9,>=2.8->tensorflow) (3.2.0)\n",
            "Installing collected packages: tf-estimator-nightly\n",
            "Successfully installed tf-estimator-nightly-2.8.0.dev2021122109\n"
          ]
        }
      ]
    },
    {
      "cell_type": "code",
      "source": [
        "pip install Keras-Applications"
      ],
      "metadata": {
        "colab": {
          "base_uri": "https://localhost:8080/"
        },
        "id": "Y-5ifOO9TWDO",
        "outputId": "6b1353f2-078a-4415-9b8f-55ac49e01ec2"
      },
      "execution_count": null,
      "outputs": [
        {
          "output_type": "stream",
          "name": "stdout",
          "text": [
            "Requirement already satisfied: Keras-Applications in /usr/local/lib/python3.7/dist-packages (1.0.8)\n",
            "Requirement already satisfied: numpy>=1.9.1 in /usr/local/lib/python3.7/dist-packages (from Keras-Applications) (1.21.5)\n",
            "Requirement already satisfied: h5py in /usr/local/lib/python3.7/dist-packages (from Keras-Applications) (3.1.0)\n",
            "Requirement already satisfied: cached-property in /usr/local/lib/python3.7/dist-packages (from h5py->Keras-Applications) (1.5.2)\n"
          ]
        }
      ]
    },
    {
      "cell_type": "code",
      "source": [
        "import numpy as np\n",
        "import matplotlib.pyplot as plt\n",
        "from sklearn.model_selection import train_test_split\n",
        "from sklearn.svm import SVC\n",
        "from sklearn.preprocessing import StandardScaler, MinMaxScaler\n",
        "from sklearn.metrics import confusion_matrix, accuracy_score, f1_score, precision_score, recall_score\n",
        "from glob import glob # Navegar sobre repositórios\n",
        "import cv2\n",
        "import os\n",
        "from google.colab.patches import cv2_imshow\n",
        "import numpy as np\n",
        "from sys import stdout\n",
        "from classification_models.models.resnet import ResNet18, preprocess_input\n",
        "import tensorflow as tf\n",
        "import keras\n",
        "from tensorflow.keras.layers import Dense, GlobalAvgPool2D, Flatten, Dropout\n",
        "from tensorflow.keras.models import Model\n",
        "import keras.backend as K\n",
        "from tensorflow.keras.callbacks import ModelCheckpoint, EarlyStopping\n",
        "\n",
        "\n",
        "\n",
        "\n",
        "# Definir o caminho onde o dataset se encontra\n",
        "base_path = '/content/drive/MyDrive/WBC_C-SVM/Dataset/PBC_dataset_normal_DIB'\n",
        "\n",
        "\n",
        "\n",
        "def images2matrix(folder, shape):\n",
        "  \n",
        "    print(folder, len(os.listdir(folder)))\n",
        "    data = np.zeros(shape[0] * shape[1] * shape[2],)\n",
        "    for im_name in os.listdir(folder):\n",
        "        imr = cv2.imread(folder + '/' + im_name)\n",
        "        if imr is None:\n",
        "          print(im_name)\n",
        "          continue\n",
        "        resz = cv2.resize(imr, shape[:2], interpolation = cv2.INTER_AREA)   \n",
        "        data = np.vstack([data, resz.flatten()])\n",
        "\n",
        "    return data\n",
        "\n",
        "img_width, img_height = 32, 32\n",
        "img_shape = (32,32,3)\n",
        "#img_width, img_height = 360, 363"
      ],
      "metadata": {
        "id": "i9S8WC3bxD9k"
      },
      "execution_count": null,
      "outputs": []
    },
    {
      "cell_type": "code",
      "source": [
        "#dataset = tf.keras.utils.image_dataset_from_directory(base_path, image_size=(img_height, img_width), batch_size=17149, seed=42)"
      ],
      "metadata": {
        "id": "Fzprsexu9YLq"
      },
      "execution_count": null,
      "outputs": []
    },
    {
      "cell_type": "code",
      "source": [
        "#images, labels = dataset.take(1)"
      ],
      "metadata": {
        "id": "skLZgqcWKudC"
      },
      "execution_count": null,
      "outputs": []
    },
    {
      "cell_type": "code",
      "source": [
        "#images, labels = next(iter(dataset))"
      ],
      "metadata": {
        "id": "1L0F2hyZLRv4"
      },
      "execution_count": null,
      "outputs": []
    },
    {
      "cell_type": "code",
      "source": [
        "images_basophil = images2matrix(base_path + \"/basophil\", img_shape)\n",
        "images_eosinophil = images2matrix(base_path + \"/eosinophil\", img_shape)\n",
        "images_erythroblast = images2matrix(base_path + \"/erythroblast\", img_shape)\n",
        "images_ig = images2matrix(base_path + \"/ig\", img_shape)\n",
        "images_lymphocyte = images2matrix(base_path + \"/lymphocyte\", img_shape)\n",
        "images_monocyte = images2matrix(base_path + \"/monocyte\", img_shape)\n",
        "images_neutrophil = images2matrix(base_path + \"/neutrophil\", img_shape)"
      ],
      "metadata": {
        "colab": {
          "base_uri": "https://localhost:8080/",
          "height": 443
        },
        "id": "mv5mKst0JR0j",
        "outputId": "c5c63ba2-f2a6-4ff4-fba5-bd7879f682b8"
      },
      "execution_count": null,
      "outputs": [
        {
          "output_type": "stream",
          "name": "stdout",
          "text": [
            "/content/drive/MyDrive/WBC_C-SVM/Dataset/PBC_dataset_normal_DIB/basophil 1218\n",
            "/content/drive/MyDrive/WBC_C-SVM/Dataset/PBC_dataset_normal_DIB/eosinophil 3117\n",
            "/content/drive/MyDrive/WBC_C-SVM/Dataset/PBC_dataset_normal_DIB/erythroblast 1551\n",
            "/content/drive/MyDrive/WBC_C-SVM/Dataset/PBC_dataset_normal_DIB/ig 2895\n",
            "/content/drive/MyDrive/WBC_C-SVM/Dataset/PBC_dataset_normal_DIB/lymphocyte 1214\n",
            "/content/drive/MyDrive/WBC_C-SVM/Dataset/PBC_dataset_normal_DIB/monocyte 1420\n",
            "/content/drive/MyDrive/WBC_C-SVM/Dataset/PBC_dataset_normal_DIB/neutrophil 3330\n"
          ]
        },
        {
          "output_type": "error",
          "ename": "error",
          "evalue": "ignored",
          "traceback": [
            "\u001b[0;31m---------------------------------------------------------------------------\u001b[0m",
            "\u001b[0;31merror\u001b[0m                                     Traceback (most recent call last)",
            "\u001b[0;32m<ipython-input-13-4bd9a872c80d>\u001b[0m in \u001b[0;36m<module>\u001b[0;34m()\u001b[0m\n\u001b[1;32m      5\u001b[0m \u001b[0mimages_lymphocyte\u001b[0m \u001b[0;34m=\u001b[0m \u001b[0mimages2matrix\u001b[0m\u001b[0;34m(\u001b[0m\u001b[0mbase_path\u001b[0m \u001b[0;34m+\u001b[0m \u001b[0;34m\"/lymphocyte\"\u001b[0m\u001b[0;34m,\u001b[0m \u001b[0mimg_shape\u001b[0m\u001b[0;34m)\u001b[0m\u001b[0;34m\u001b[0m\u001b[0;34m\u001b[0m\u001b[0m\n\u001b[1;32m      6\u001b[0m \u001b[0mimages_monocyte\u001b[0m \u001b[0;34m=\u001b[0m \u001b[0mimages2matrix\u001b[0m\u001b[0;34m(\u001b[0m\u001b[0mbase_path\u001b[0m \u001b[0;34m+\u001b[0m \u001b[0;34m\"/monocyte\"\u001b[0m\u001b[0;34m,\u001b[0m \u001b[0mimg_shape\u001b[0m\u001b[0;34m)\u001b[0m\u001b[0;34m\u001b[0m\u001b[0;34m\u001b[0m\u001b[0m\n\u001b[0;32m----> 7\u001b[0;31m \u001b[0mimages_neutrophil\u001b[0m \u001b[0;34m=\u001b[0m \u001b[0mimages2matrix\u001b[0m\u001b[0;34m(\u001b[0m\u001b[0mbase_path\u001b[0m \u001b[0;34m+\u001b[0m \u001b[0;34m\"/neutrophil\"\u001b[0m\u001b[0;34m,\u001b[0m \u001b[0mimg_shape\u001b[0m\u001b[0;34m)\u001b[0m\u001b[0;34m\u001b[0m\u001b[0;34m\u001b[0m\u001b[0m\n\u001b[0m",
            "\u001b[0;32m<ipython-input-12-fb0426aeeb5b>\u001b[0m in \u001b[0;36mimages2matrix\u001b[0;34m(folder, shape)\u001b[0m\n\u001b[1;32m     22\u001b[0m     \u001b[0mdata\u001b[0m \u001b[0;34m=\u001b[0m \u001b[0mnp\u001b[0m\u001b[0;34m.\u001b[0m\u001b[0mzeros\u001b[0m\u001b[0;34m(\u001b[0m\u001b[0mshape\u001b[0m\u001b[0;34m[\u001b[0m\u001b[0;36m0\u001b[0m\u001b[0;34m]\u001b[0m \u001b[0;34m*\u001b[0m \u001b[0mshape\u001b[0m\u001b[0;34m[\u001b[0m\u001b[0;36m1\u001b[0m\u001b[0;34m]\u001b[0m \u001b[0;34m*\u001b[0m \u001b[0mshape\u001b[0m\u001b[0;34m[\u001b[0m\u001b[0;36m2\u001b[0m\u001b[0;34m]\u001b[0m\u001b[0;34m,\u001b[0m\u001b[0;34m)\u001b[0m\u001b[0;34m\u001b[0m\u001b[0;34m\u001b[0m\u001b[0m\n\u001b[1;32m     23\u001b[0m     \u001b[0;32mfor\u001b[0m \u001b[0mim_name\u001b[0m \u001b[0;32min\u001b[0m \u001b[0mos\u001b[0m\u001b[0;34m.\u001b[0m\u001b[0mlistdir\u001b[0m\u001b[0;34m(\u001b[0m\u001b[0mfolder\u001b[0m\u001b[0;34m)\u001b[0m\u001b[0;34m:\u001b[0m\u001b[0;34m\u001b[0m\u001b[0;34m\u001b[0m\u001b[0m\n\u001b[0;32m---> 24\u001b[0;31m         \u001b[0mresz\u001b[0m \u001b[0;34m=\u001b[0m \u001b[0mcv2\u001b[0m\u001b[0;34m.\u001b[0m\u001b[0mresize\u001b[0m\u001b[0;34m(\u001b[0m\u001b[0mcv2\u001b[0m\u001b[0;34m.\u001b[0m\u001b[0mimread\u001b[0m\u001b[0;34m(\u001b[0m\u001b[0mfolder\u001b[0m \u001b[0;34m+\u001b[0m \u001b[0;34m'/'\u001b[0m \u001b[0;34m+\u001b[0m \u001b[0mim_name\u001b[0m\u001b[0;34m)\u001b[0m\u001b[0;34m,\u001b[0m \u001b[0mshape\u001b[0m\u001b[0;34m[\u001b[0m\u001b[0;34m:\u001b[0m\u001b[0;36m2\u001b[0m\u001b[0;34m]\u001b[0m\u001b[0;34m,\u001b[0m \u001b[0minterpolation\u001b[0m \u001b[0;34m=\u001b[0m \u001b[0mcv2\u001b[0m\u001b[0;34m.\u001b[0m\u001b[0mINTER_AREA\u001b[0m\u001b[0;34m)\u001b[0m\u001b[0;34m\u001b[0m\u001b[0;34m\u001b[0m\u001b[0m\n\u001b[0m\u001b[1;32m     25\u001b[0m         \u001b[0mdata\u001b[0m \u001b[0;34m=\u001b[0m \u001b[0mnp\u001b[0m\u001b[0;34m.\u001b[0m\u001b[0mvstack\u001b[0m\u001b[0;34m(\u001b[0m\u001b[0;34m[\u001b[0m\u001b[0mdata\u001b[0m\u001b[0;34m,\u001b[0m \u001b[0mresz\u001b[0m\u001b[0;34m.\u001b[0m\u001b[0mflatten\u001b[0m\u001b[0;34m(\u001b[0m\u001b[0;34m)\u001b[0m\u001b[0;34m]\u001b[0m\u001b[0;34m)\u001b[0m\u001b[0;34m\u001b[0m\u001b[0;34m\u001b[0m\u001b[0m\n\u001b[1;32m     26\u001b[0m \u001b[0;34m\u001b[0m\u001b[0m\n",
            "\u001b[0;31merror\u001b[0m: OpenCV(4.1.2) /io/opencv/modules/imgproc/src/resize.cpp:3720: error: (-215:Assertion failed) !ssize.empty() in function 'resize'\n"
          ]
        }
      ]
    },
    {
      "cell_type": "code",
      "source": [
        "images_basophil.shape"
      ],
      "metadata": {
        "colab": {
          "base_uri": "https://localhost:8080/"
        },
        "id": "SAQn5CU-O_Mq",
        "outputId": "a0c82ce0-95e1-4970-97e2-46a0d59fa992"
      },
      "execution_count": null,
      "outputs": [
        {
          "output_type": "execute_result",
          "data": {
            "text/plain": [
              "(1219, 3072)"
            ]
          },
          "metadata": {},
          "execution_count": 17
        }
      ]
    },
    {
      "cell_type": "code",
      "source": [
        "list_img = [images_basophil, images_eosinophil, images_erythroblast, images_ig, images_lymphocyte, images_monocyte, images_neutrophil]\n",
        "images = np.concatenate(list_img, axis=0)#.reshape((-1, *img_shape))"
      ],
      "metadata": {
        "id": "etLAV2pdPl4-"
      },
      "execution_count": null,
      "outputs": []
    },
    {
      "cell_type": "code",
      "source": [
        "images.shape"
      ],
      "metadata": {
        "colab": {
          "base_uri": "https://localhost:8080/"
        },
        "id": "fOjKl8NrRtT_",
        "outputId": "3808b6da-0151-4c7d-fada-bf8ecad29c1e"
      },
      "execution_count": null,
      "outputs": [
        {
          "output_type": "execute_result",
          "data": {
            "text/plain": [
              "(14751, 3072)"
            ]
          },
          "metadata": {},
          "execution_count": 30
        }
      ]
    },
    {
      "cell_type": "code",
      "source": [
        "labels = np.array(\n",
        "    [0]*len(images_basophil) + \n",
        "    [1]*len(images_eosinophil) + \n",
        "    [2]*len(images_erythroblast) + \n",
        "    [3]*len(images_ig) + \n",
        "    [4]*len(images_lymphocyte) + \n",
        "    [5]*len(images_monocyte) + \n",
        "    [6]*len(images_neutrophil)\n",
        ")"
      ],
      "metadata": {
        "id": "Xb4TZuCvSS_M"
      },
      "execution_count": null,
      "outputs": []
    },
    {
      "cell_type": "code",
      "source": [
        "labels.shape"
      ],
      "metadata": {
        "colab": {
          "base_uri": "https://localhost:8080/"
        },
        "id": "rkZUCqGZSZyc",
        "outputId": "8200de7c-cb83-4142-a0e0-2cec9747d190"
      },
      "execution_count": null,
      "outputs": [
        {
          "output_type": "execute_result",
          "data": {
            "text/plain": [
              "(14751,)"
            ]
          },
          "metadata": {},
          "execution_count": 32
        }
      ]
    },
    {
      "cell_type": "code",
      "source": [
        "labels"
      ],
      "metadata": {
        "colab": {
          "base_uri": "https://localhost:8080/"
        },
        "id": "KvRE1fuxTQtr",
        "outputId": "3ed1e333-bd7c-4581-8708-0e67378ad06c"
      },
      "execution_count": null,
      "outputs": [
        {
          "output_type": "execute_result",
          "data": {
            "text/plain": [
              "array(['basophil', 'basophil', 'basophil', ..., 'neutrophil',\n",
              "       'neutrophil', 'neutrophil'], dtype='<U12')"
            ]
          },
          "metadata": {},
          "execution_count": 33
        }
      ]
    },
    {
      "cell_type": "code",
      "source": [
        "np.unique(labels, return_counts=True)"
      ],
      "metadata": {
        "colab": {
          "base_uri": "https://localhost:8080/"
        },
        "id": "e-jDx0PsTmC_",
        "outputId": "ce42891f-9f22-4872-93c4-51e3e44075bd"
      },
      "execution_count": null,
      "outputs": [
        {
          "output_type": "execute_result",
          "data": {
            "text/plain": [
              "(array(['basophil', 'eosinophil', 'erythroblast', 'ig', 'lymphocyte',\n",
              "        'monocyte', 'neutrophil'], dtype='<U12'),\n",
              " array([1219, 3118, 1552, 2896, 1215, 1421, 3330]))"
            ]
          },
          "metadata": {},
          "execution_count": 34
        }
      ]
    },
    {
      "cell_type": "code",
      "source": [
        "X_train, X_test, y_train, y_test = train_test_split(images, labels, test_size=0.3, random_state=42, stratify=labels) #test_size pode mudar\n",
        "X_train = X_train.reshape((-1, *img_shape))/255\n",
        "X_test = X_test.reshape((-1, *img_shape))/255"
      ],
      "metadata": {
        "id": "NBpC5vd1UibN"
      },
      "execution_count": null,
      "outputs": []
    },
    {
      "cell_type": "code",
      "source": [
        "X_train.shape"
      ],
      "metadata": {
        "colab": {
          "base_uri": "https://localhost:8080/"
        },
        "id": "AU_JonLjVzsR",
        "outputId": "0ca07604-7a43-47b4-9f36-c176d70df348"
      },
      "execution_count": null,
      "outputs": [
        {
          "output_type": "execute_result",
          "data": {
            "text/plain": [
              "(10325, 32, 32, 3)"
            ]
          },
          "metadata": {},
          "execution_count": 39
        }
      ]
    },
    {
      "cell_type": "code",
      "source": [
        "base_model = ResNet18(input_shape=img_shape, include_top=False, weights=\"imagenet\", backend=K, layers=tf.keras.layers, models=tf.keras.models, utils=tf.keras.utils)\n",
        "X = GlobalAvgPool2D(name=\"Global\")(base_model.output) # A saída da ResNet com inclus_top=False é uma imagem, GAP2D vai calcular a media por cada canal\n",
        "output = Dense(7, activation = \"softmax\")(X) # Faz a classificação\n",
        "\n",
        "model = Model(inputs=base_model.inputs, outputs=[output])\n",
        "model.summary() # Faz a tabela\n",
        "\n",
        "list_callbacks = [\n",
        "  EarlyStopping(monitor=\"val_accuracy\", patience=10, verbose=1, restore_best_weights=True)\n",
        "]\n",
        "\n",
        "model.compile(optimizer=\"adam\", loss=\"sparse_categorical_crossentropy\", metrics=[\"accuracy\"])\n",
        "model.fit(X_train, y_train, batch_size=32, epochs=50, validation_data=(X_test, y_test), verbose=1, callbacks=list_callbacks) "
      ],
      "metadata": {
        "colab": {
          "base_uri": "https://localhost:8080/"
        },
        "id": "xYKztiDwOn9L",
        "outputId": "d0f4c37e-dcf5-4869-9027-9b2d9279cb09"
      },
      "execution_count": null,
      "outputs": [
        {
          "output_type": "stream",
          "name": "stdout",
          "text": [
            "Model: \"model_17\"\n",
            "__________________________________________________________________________________________________\n",
            " Layer (type)                   Output Shape         Param #     Connected to                     \n",
            "==================================================================================================\n",
            " data (InputLayer)              [(None, 32, 32, 3)]  0           []                               \n",
            "                                                                                                  \n",
            " bn_data (BatchNormalization)   (None, 32, 32, 3)    9           ['data[0][0]']                   \n",
            "                                                                                                  \n",
            " zero_padding2d_144 (ZeroPaddin  (None, 38, 38, 3)   0           ['bn_data[0][0]']                \n",
            " g2D)                                                                                             \n",
            "                                                                                                  \n",
            " conv0 (Conv2D)                 (None, 16, 16, 64)   9408        ['zero_padding2d_144[0][0]']     \n",
            "                                                                                                  \n",
            " bn0 (BatchNormalization)       (None, 16, 16, 64)   256         ['conv0[0][0]']                  \n",
            "                                                                                                  \n",
            " relu0 (Activation)             (None, 16, 16, 64)   0           ['bn0[0][0]']                    \n",
            "                                                                                                  \n",
            " zero_padding2d_145 (ZeroPaddin  (None, 18, 18, 64)  0           ['relu0[0][0]']                  \n",
            " g2D)                                                                                             \n",
            "                                                                                                  \n",
            " pooling0 (MaxPooling2D)        (None, 8, 8, 64)     0           ['zero_padding2d_145[0][0]']     \n",
            "                                                                                                  \n",
            " stage1_unit1_bn1 (BatchNormali  (None, 8, 8, 64)    256         ['pooling0[0][0]']               \n",
            " zation)                                                                                          \n",
            "                                                                                                  \n",
            " stage1_unit1_relu1 (Activation  (None, 8, 8, 64)    0           ['stage1_unit1_bn1[0][0]']       \n",
            " )                                                                                                \n",
            "                                                                                                  \n",
            " zero_padding2d_146 (ZeroPaddin  (None, 10, 10, 64)  0           ['stage1_unit1_relu1[0][0]']     \n",
            " g2D)                                                                                             \n",
            "                                                                                                  \n",
            " stage1_unit1_conv1 (Conv2D)    (None, 8, 8, 64)     36864       ['zero_padding2d_146[0][0]']     \n",
            "                                                                                                  \n",
            " stage1_unit1_bn2 (BatchNormali  (None, 8, 8, 64)    256         ['stage1_unit1_conv1[0][0]']     \n",
            " zation)                                                                                          \n",
            "                                                                                                  \n",
            " stage1_unit1_relu2 (Activation  (None, 8, 8, 64)    0           ['stage1_unit1_bn2[0][0]']       \n",
            " )                                                                                                \n",
            "                                                                                                  \n",
            " zero_padding2d_147 (ZeroPaddin  (None, 10, 10, 64)  0           ['stage1_unit1_relu2[0][0]']     \n",
            " g2D)                                                                                             \n",
            "                                                                                                  \n",
            " stage1_unit1_conv2 (Conv2D)    (None, 8, 8, 64)     36864       ['zero_padding2d_147[0][0]']     \n",
            "                                                                                                  \n",
            " stage1_unit1_sc (Conv2D)       (None, 8, 8, 64)     4096        ['stage1_unit1_relu1[0][0]']     \n",
            "                                                                                                  \n",
            " add_64 (Add)                   (None, 8, 8, 64)     0           ['stage1_unit1_conv2[0][0]',     \n",
            "                                                                  'stage1_unit1_sc[0][0]']        \n",
            "                                                                                                  \n",
            " stage1_unit2_bn1 (BatchNormali  (None, 8, 8, 64)    256         ['add_64[0][0]']                 \n",
            " zation)                                                                                          \n",
            "                                                                                                  \n",
            " stage1_unit2_relu1 (Activation  (None, 8, 8, 64)    0           ['stage1_unit2_bn1[0][0]']       \n",
            " )                                                                                                \n",
            "                                                                                                  \n",
            " zero_padding2d_148 (ZeroPaddin  (None, 10, 10, 64)  0           ['stage1_unit2_relu1[0][0]']     \n",
            " g2D)                                                                                             \n",
            "                                                                                                  \n",
            " stage1_unit2_conv1 (Conv2D)    (None, 8, 8, 64)     36864       ['zero_padding2d_148[0][0]']     \n",
            "                                                                                                  \n",
            " stage1_unit2_bn2 (BatchNormali  (None, 8, 8, 64)    256         ['stage1_unit2_conv1[0][0]']     \n",
            " zation)                                                                                          \n",
            "                                                                                                  \n",
            " stage1_unit2_relu2 (Activation  (None, 8, 8, 64)    0           ['stage1_unit2_bn2[0][0]']       \n",
            " )                                                                                                \n",
            "                                                                                                  \n",
            " zero_padding2d_149 (ZeroPaddin  (None, 10, 10, 64)  0           ['stage1_unit2_relu2[0][0]']     \n",
            " g2D)                                                                                             \n",
            "                                                                                                  \n",
            " stage1_unit2_conv2 (Conv2D)    (None, 8, 8, 64)     36864       ['zero_padding2d_149[0][0]']     \n",
            "                                                                                                  \n",
            " add_65 (Add)                   (None, 8, 8, 64)     0           ['stage1_unit2_conv2[0][0]',     \n",
            "                                                                  'add_64[0][0]']                 \n",
            "                                                                                                  \n",
            " stage2_unit1_bn1 (BatchNormali  (None, 8, 8, 64)    256         ['add_65[0][0]']                 \n",
            " zation)                                                                                          \n",
            "                                                                                                  \n",
            " stage2_unit1_relu1 (Activation  (None, 8, 8, 64)    0           ['stage2_unit1_bn1[0][0]']       \n",
            " )                                                                                                \n",
            "                                                                                                  \n",
            " zero_padding2d_150 (ZeroPaddin  (None, 10, 10, 64)  0           ['stage2_unit1_relu1[0][0]']     \n",
            " g2D)                                                                                             \n",
            "                                                                                                  \n",
            " stage2_unit1_conv1 (Conv2D)    (None, 4, 4, 128)    73728       ['zero_padding2d_150[0][0]']     \n",
            "                                                                                                  \n",
            " stage2_unit1_bn2 (BatchNormali  (None, 4, 4, 128)   512         ['stage2_unit1_conv1[0][0]']     \n",
            " zation)                                                                                          \n",
            "                                                                                                  \n",
            " stage2_unit1_relu2 (Activation  (None, 4, 4, 128)   0           ['stage2_unit1_bn2[0][0]']       \n",
            " )                                                                                                \n",
            "                                                                                                  \n",
            " zero_padding2d_151 (ZeroPaddin  (None, 6, 6, 128)   0           ['stage2_unit1_relu2[0][0]']     \n",
            " g2D)                                                                                             \n",
            "                                                                                                  \n",
            " stage2_unit1_conv2 (Conv2D)    (None, 4, 4, 128)    147456      ['zero_padding2d_151[0][0]']     \n",
            "                                                                                                  \n",
            " stage2_unit1_sc (Conv2D)       (None, 4, 4, 128)    8192        ['stage2_unit1_relu1[0][0]']     \n",
            "                                                                                                  \n",
            " add_66 (Add)                   (None, 4, 4, 128)    0           ['stage2_unit1_conv2[0][0]',     \n",
            "                                                                  'stage2_unit1_sc[0][0]']        \n",
            "                                                                                                  \n",
            " stage2_unit2_bn1 (BatchNormali  (None, 4, 4, 128)   512         ['add_66[0][0]']                 \n",
            " zation)                                                                                          \n",
            "                                                                                                  \n",
            " stage2_unit2_relu1 (Activation  (None, 4, 4, 128)   0           ['stage2_unit2_bn1[0][0]']       \n",
            " )                                                                                                \n",
            "                                                                                                  \n",
            " zero_padding2d_152 (ZeroPaddin  (None, 6, 6, 128)   0           ['stage2_unit2_relu1[0][0]']     \n",
            " g2D)                                                                                             \n",
            "                                                                                                  \n",
            " stage2_unit2_conv1 (Conv2D)    (None, 4, 4, 128)    147456      ['zero_padding2d_152[0][0]']     \n",
            "                                                                                                  \n",
            " stage2_unit2_bn2 (BatchNormali  (None, 4, 4, 128)   512         ['stage2_unit2_conv1[0][0]']     \n",
            " zation)                                                                                          \n",
            "                                                                                                  \n",
            " stage2_unit2_relu2 (Activation  (None, 4, 4, 128)   0           ['stage2_unit2_bn2[0][0]']       \n",
            " )                                                                                                \n",
            "                                                                                                  \n",
            " zero_padding2d_153 (ZeroPaddin  (None, 6, 6, 128)   0           ['stage2_unit2_relu2[0][0]']     \n",
            " g2D)                                                                                             \n",
            "                                                                                                  \n",
            " stage2_unit2_conv2 (Conv2D)    (None, 4, 4, 128)    147456      ['zero_padding2d_153[0][0]']     \n",
            "                                                                                                  \n",
            " add_67 (Add)                   (None, 4, 4, 128)    0           ['stage2_unit2_conv2[0][0]',     \n",
            "                                                                  'add_66[0][0]']                 \n",
            "                                                                                                  \n",
            " stage3_unit1_bn1 (BatchNormali  (None, 4, 4, 128)   512         ['add_67[0][0]']                 \n",
            " zation)                                                                                          \n",
            "                                                                                                  \n",
            " stage3_unit1_relu1 (Activation  (None, 4, 4, 128)   0           ['stage3_unit1_bn1[0][0]']       \n",
            " )                                                                                                \n",
            "                                                                                                  \n",
            " zero_padding2d_154 (ZeroPaddin  (None, 6, 6, 128)   0           ['stage3_unit1_relu1[0][0]']     \n",
            " g2D)                                                                                             \n",
            "                                                                                                  \n",
            " stage3_unit1_conv1 (Conv2D)    (None, 2, 2, 256)    294912      ['zero_padding2d_154[0][0]']     \n",
            "                                                                                                  \n",
            " stage3_unit1_bn2 (BatchNormali  (None, 2, 2, 256)   1024        ['stage3_unit1_conv1[0][0]']     \n",
            " zation)                                                                                          \n",
            "                                                                                                  \n",
            " stage3_unit1_relu2 (Activation  (None, 2, 2, 256)   0           ['stage3_unit1_bn2[0][0]']       \n",
            " )                                                                                                \n",
            "                                                                                                  \n",
            " zero_padding2d_155 (ZeroPaddin  (None, 4, 4, 256)   0           ['stage3_unit1_relu2[0][0]']     \n",
            " g2D)                                                                                             \n",
            "                                                                                                  \n",
            " stage3_unit1_conv2 (Conv2D)    (None, 2, 2, 256)    589824      ['zero_padding2d_155[0][0]']     \n",
            "                                                                                                  \n",
            " stage3_unit1_sc (Conv2D)       (None, 2, 2, 256)    32768       ['stage3_unit1_relu1[0][0]']     \n",
            "                                                                                                  \n",
            " add_68 (Add)                   (None, 2, 2, 256)    0           ['stage3_unit1_conv2[0][0]',     \n",
            "                                                                  'stage3_unit1_sc[0][0]']        \n",
            "                                                                                                  \n",
            " stage3_unit2_bn1 (BatchNormali  (None, 2, 2, 256)   1024        ['add_68[0][0]']                 \n",
            " zation)                                                                                          \n",
            "                                                                                                  \n",
            " stage3_unit2_relu1 (Activation  (None, 2, 2, 256)   0           ['stage3_unit2_bn1[0][0]']       \n",
            " )                                                                                                \n",
            "                                                                                                  \n",
            " zero_padding2d_156 (ZeroPaddin  (None, 4, 4, 256)   0           ['stage3_unit2_relu1[0][0]']     \n",
            " g2D)                                                                                             \n",
            "                                                                                                  \n",
            " stage3_unit2_conv1 (Conv2D)    (None, 2, 2, 256)    589824      ['zero_padding2d_156[0][0]']     \n",
            "                                                                                                  \n",
            " stage3_unit2_bn2 (BatchNormali  (None, 2, 2, 256)   1024        ['stage3_unit2_conv1[0][0]']     \n",
            " zation)                                                                                          \n",
            "                                                                                                  \n",
            " stage3_unit2_relu2 (Activation  (None, 2, 2, 256)   0           ['stage3_unit2_bn2[0][0]']       \n",
            " )                                                                                                \n",
            "                                                                                                  \n",
            " zero_padding2d_157 (ZeroPaddin  (None, 4, 4, 256)   0           ['stage3_unit2_relu2[0][0]']     \n",
            " g2D)                                                                                             \n",
            "                                                                                                  \n",
            " stage3_unit2_conv2 (Conv2D)    (None, 2, 2, 256)    589824      ['zero_padding2d_157[0][0]']     \n",
            "                                                                                                  \n",
            " add_69 (Add)                   (None, 2, 2, 256)    0           ['stage3_unit2_conv2[0][0]',     \n",
            "                                                                  'add_68[0][0]']                 \n",
            "                                                                                                  \n",
            " stage4_unit1_bn1 (BatchNormali  (None, 2, 2, 256)   1024        ['add_69[0][0]']                 \n",
            " zation)                                                                                          \n",
            "                                                                                                  \n",
            " stage4_unit1_relu1 (Activation  (None, 2, 2, 256)   0           ['stage4_unit1_bn1[0][0]']       \n",
            " )                                                                                                \n",
            "                                                                                                  \n",
            " zero_padding2d_158 (ZeroPaddin  (None, 4, 4, 256)   0           ['stage4_unit1_relu1[0][0]']     \n",
            " g2D)                                                                                             \n",
            "                                                                                                  \n",
            " stage4_unit1_conv1 (Conv2D)    (None, 1, 1, 512)    1179648     ['zero_padding2d_158[0][0]']     \n",
            "                                                                                                  \n",
            " stage4_unit1_bn2 (BatchNormali  (None, 1, 1, 512)   2048        ['stage4_unit1_conv1[0][0]']     \n",
            " zation)                                                                                          \n",
            "                                                                                                  \n",
            " stage4_unit1_relu2 (Activation  (None, 1, 1, 512)   0           ['stage4_unit1_bn2[0][0]']       \n",
            " )                                                                                                \n",
            "                                                                                                  \n",
            " zero_padding2d_159 (ZeroPaddin  (None, 3, 3, 512)   0           ['stage4_unit1_relu2[0][0]']     \n",
            " g2D)                                                                                             \n",
            "                                                                                                  \n",
            " stage4_unit1_conv2 (Conv2D)    (None, 1, 1, 512)    2359296     ['zero_padding2d_159[0][0]']     \n",
            "                                                                                                  \n",
            " stage4_unit1_sc (Conv2D)       (None, 1, 1, 512)    131072      ['stage4_unit1_relu1[0][0]']     \n",
            "                                                                                                  \n",
            " add_70 (Add)                   (None, 1, 1, 512)    0           ['stage4_unit1_conv2[0][0]',     \n",
            "                                                                  'stage4_unit1_sc[0][0]']        \n",
            "                                                                                                  \n",
            " stage4_unit2_bn1 (BatchNormali  (None, 1, 1, 512)   2048        ['add_70[0][0]']                 \n",
            " zation)                                                                                          \n",
            "                                                                                                  \n",
            " stage4_unit2_relu1 (Activation  (None, 1, 1, 512)   0           ['stage4_unit2_bn1[0][0]']       \n",
            " )                                                                                                \n",
            "                                                                                                  \n",
            " zero_padding2d_160 (ZeroPaddin  (None, 3, 3, 512)   0           ['stage4_unit2_relu1[0][0]']     \n",
            " g2D)                                                                                             \n",
            "                                                                                                  \n",
            " stage4_unit2_conv1 (Conv2D)    (None, 1, 1, 512)    2359296     ['zero_padding2d_160[0][0]']     \n",
            "                                                                                                  \n",
            " stage4_unit2_bn2 (BatchNormali  (None, 1, 1, 512)   2048        ['stage4_unit2_conv1[0][0]']     \n",
            " zation)                                                                                          \n",
            "                                                                                                  \n",
            " stage4_unit2_relu2 (Activation  (None, 1, 1, 512)   0           ['stage4_unit2_bn2[0][0]']       \n",
            " )                                                                                                \n",
            "                                                                                                  \n",
            " zero_padding2d_161 (ZeroPaddin  (None, 3, 3, 512)   0           ['stage4_unit2_relu2[0][0]']     \n",
            " g2D)                                                                                             \n",
            "                                                                                                  \n",
            " stage4_unit2_conv2 (Conv2D)    (None, 1, 1, 512)    2359296     ['zero_padding2d_161[0][0]']     \n",
            "                                                                                                  \n",
            " add_71 (Add)                   (None, 1, 1, 512)    0           ['stage4_unit2_conv2[0][0]',     \n",
            "                                                                  'add_70[0][0]']                 \n",
            "                                                                                                  \n",
            " bn1 (BatchNormalization)       (None, 1, 1, 512)    2048        ['add_71[0][0]']                 \n",
            "                                                                                                  \n",
            " relu1 (Activation)             (None, 1, 1, 512)    0           ['bn1[0][0]']                    \n",
            "                                                                                                  \n",
            " Global (GlobalAveragePooling2D  (None, 512)         0           ['relu1[0][0]']                  \n",
            " )                                                                                                \n",
            "                                                                                                  \n",
            " dense_7 (Dense)                (None, 7)            3591        ['Global[0][0]']                 \n",
            "                                                                                                  \n",
            "==================================================================================================\n",
            "Total params: 11,190,480\n",
            "Trainable params: 11,182,538\n",
            "Non-trainable params: 7,942\n",
            "__________________________________________________________________________________________________\n",
            "Epoch 1/50\n",
            "323/323 [==============================] - 21s 57ms/step - loss: 0.5943 - accuracy: 0.7945 - val_loss: 5.5974 - val_accuracy: 0.1053\n",
            "Epoch 2/50\n",
            "323/323 [==============================] - 17s 52ms/step - loss: 0.3097 - accuracy: 0.8938 - val_loss: 5.2888 - val_accuracy: 0.1053\n",
            "Epoch 3/50\n",
            "323/323 [==============================] - 17s 53ms/step - loss: 0.2339 - accuracy: 0.9190 - val_loss: 5.0594 - val_accuracy: 0.1227\n",
            "Epoch 4/50\n",
            "323/323 [==============================] - 18s 54ms/step - loss: 0.1999 - accuracy: 0.9284 - val_loss: 0.8809 - val_accuracy: 0.7659\n",
            "Epoch 5/50\n",
            "323/323 [==============================] - 17s 53ms/step - loss: 0.2032 - accuracy: 0.9294 - val_loss: 0.8165 - val_accuracy: 0.7815\n",
            "Epoch 6/50\n",
            "323/323 [==============================] - 17s 53ms/step - loss: 0.1574 - accuracy: 0.9448 - val_loss: 0.3644 - val_accuracy: 0.8897\n",
            "Epoch 7/50\n",
            "323/323 [==============================] - 18s 56ms/step - loss: 0.1295 - accuracy: 0.9545 - val_loss: 0.3377 - val_accuracy: 0.8943\n",
            "Epoch 8/50\n",
            "323/323 [==============================] - 17s 53ms/step - loss: 0.1210 - accuracy: 0.9593 - val_loss: 0.3380 - val_accuracy: 0.8954\n",
            "Epoch 9/50\n",
            "323/323 [==============================] - 17s 53ms/step - loss: 0.0928 - accuracy: 0.9689 - val_loss: 0.3770 - val_accuracy: 0.8972\n",
            "Epoch 10/50\n",
            "323/323 [==============================] - 17s 53ms/step - loss: 0.0808 - accuracy: 0.9723 - val_loss: 0.2061 - val_accuracy: 0.9322\n",
            "Epoch 11/50\n",
            "323/323 [==============================] - 17s 53ms/step - loss: 0.0850 - accuracy: 0.9721 - val_loss: 0.5672 - val_accuracy: 0.8405\n",
            "Epoch 12/50\n",
            "323/323 [==============================] - 17s 53ms/step - loss: 0.0710 - accuracy: 0.9764 - val_loss: 0.3532 - val_accuracy: 0.8943\n",
            "Epoch 13/50\n",
            "323/323 [==============================] - 17s 53ms/step - loss: 0.0810 - accuracy: 0.9735 - val_loss: 0.4786 - val_accuracy: 0.8644\n",
            "Epoch 14/50\n",
            "323/323 [==============================] - 17s 53ms/step - loss: 0.0619 - accuracy: 0.9772 - val_loss: 0.3371 - val_accuracy: 0.8999\n",
            "Epoch 15/50\n",
            "323/323 [==============================] - 17s 53ms/step - loss: 0.0845 - accuracy: 0.9708 - val_loss: 0.7437 - val_accuracy: 0.8671\n",
            "Epoch 16/50\n",
            "323/323 [==============================] - 17s 53ms/step - loss: 0.0584 - accuracy: 0.9806 - val_loss: 0.3738 - val_accuracy: 0.9001\n",
            "Epoch 17/50\n",
            "323/323 [==============================] - 17s 53ms/step - loss: 0.1221 - accuracy: 0.9586 - val_loss: 0.3908 - val_accuracy: 0.8911\n",
            "Epoch 18/50\n",
            "323/323 [==============================] - 18s 55ms/step - loss: 0.0808 - accuracy: 0.9766 - val_loss: 0.2248 - val_accuracy: 0.9322\n",
            "Epoch 19/50\n",
            "323/323 [==============================] - 17s 53ms/step - loss: 0.0377 - accuracy: 0.9885 - val_loss: 0.2739 - val_accuracy: 0.9311\n",
            "Epoch 20/50\n",
            "322/323 [============================>.] - ETA: 0s - loss: 0.0555 - accuracy: 0.9825Restoring model weights from the end of the best epoch: 10.\n",
            "323/323 [==============================] - 17s 53ms/step - loss: 0.0556 - accuracy: 0.9825 - val_loss: 0.3065 - val_accuracy: 0.9180\n",
            "Epoch 20: early stopping\n"
          ]
        },
        {
          "output_type": "execute_result",
          "data": {
            "text/plain": [
              "<keras.callbacks.History at 0x7f83bec4a310>"
            ]
          },
          "metadata": {},
          "execution_count": 91
        }
      ]
    },
    {
      "cell_type": "code",
      "source": [
        "model_ResNet = Model(inputs=model.inputs, outputs=[model.get_layer(\"Global\").output])\n",
        "model_ResNet.summary()"
      ],
      "metadata": {
        "colab": {
          "base_uri": "https://localhost:8080/"
        },
        "id": "uSdXpdoUclSh",
        "outputId": "14b1f2e7-eb06-4a46-c70c-671edc111fba"
      },
      "execution_count": null,
      "outputs": [
        {
          "output_type": "stream",
          "name": "stdout",
          "text": [
            "Model: \"model_18\"\n",
            "__________________________________________________________________________________________________\n",
            " Layer (type)                   Output Shape         Param #     Connected to                     \n",
            "==================================================================================================\n",
            " data (InputLayer)              [(None, 32, 32, 3)]  0           []                               \n",
            "                                                                                                  \n",
            " bn_data (BatchNormalization)   (None, 32, 32, 3)    9           ['data[0][0]']                   \n",
            "                                                                                                  \n",
            " zero_padding2d_144 (ZeroPaddin  (None, 38, 38, 3)   0           ['bn_data[0][0]']                \n",
            " g2D)                                                                                             \n",
            "                                                                                                  \n",
            " conv0 (Conv2D)                 (None, 16, 16, 64)   9408        ['zero_padding2d_144[0][0]']     \n",
            "                                                                                                  \n",
            " bn0 (BatchNormalization)       (None, 16, 16, 64)   256         ['conv0[0][0]']                  \n",
            "                                                                                                  \n",
            " relu0 (Activation)             (None, 16, 16, 64)   0           ['bn0[0][0]']                    \n",
            "                                                                                                  \n",
            " zero_padding2d_145 (ZeroPaddin  (None, 18, 18, 64)  0           ['relu0[0][0]']                  \n",
            " g2D)                                                                                             \n",
            "                                                                                                  \n",
            " pooling0 (MaxPooling2D)        (None, 8, 8, 64)     0           ['zero_padding2d_145[0][0]']     \n",
            "                                                                                                  \n",
            " stage1_unit1_bn1 (BatchNormali  (None, 8, 8, 64)    256         ['pooling0[0][0]']               \n",
            " zation)                                                                                          \n",
            "                                                                                                  \n",
            " stage1_unit1_relu1 (Activation  (None, 8, 8, 64)    0           ['stage1_unit1_bn1[0][0]']       \n",
            " )                                                                                                \n",
            "                                                                                                  \n",
            " zero_padding2d_146 (ZeroPaddin  (None, 10, 10, 64)  0           ['stage1_unit1_relu1[0][0]']     \n",
            " g2D)                                                                                             \n",
            "                                                                                                  \n",
            " stage1_unit1_conv1 (Conv2D)    (None, 8, 8, 64)     36864       ['zero_padding2d_146[0][0]']     \n",
            "                                                                                                  \n",
            " stage1_unit1_bn2 (BatchNormali  (None, 8, 8, 64)    256         ['stage1_unit1_conv1[0][0]']     \n",
            " zation)                                                                                          \n",
            "                                                                                                  \n",
            " stage1_unit1_relu2 (Activation  (None, 8, 8, 64)    0           ['stage1_unit1_bn2[0][0]']       \n",
            " )                                                                                                \n",
            "                                                                                                  \n",
            " zero_padding2d_147 (ZeroPaddin  (None, 10, 10, 64)  0           ['stage1_unit1_relu2[0][0]']     \n",
            " g2D)                                                                                             \n",
            "                                                                                                  \n",
            " stage1_unit1_conv2 (Conv2D)    (None, 8, 8, 64)     36864       ['zero_padding2d_147[0][0]']     \n",
            "                                                                                                  \n",
            " stage1_unit1_sc (Conv2D)       (None, 8, 8, 64)     4096        ['stage1_unit1_relu1[0][0]']     \n",
            "                                                                                                  \n",
            " add_64 (Add)                   (None, 8, 8, 64)     0           ['stage1_unit1_conv2[0][0]',     \n",
            "                                                                  'stage1_unit1_sc[0][0]']        \n",
            "                                                                                                  \n",
            " stage1_unit2_bn1 (BatchNormali  (None, 8, 8, 64)    256         ['add_64[0][0]']                 \n",
            " zation)                                                                                          \n",
            "                                                                                                  \n",
            " stage1_unit2_relu1 (Activation  (None, 8, 8, 64)    0           ['stage1_unit2_bn1[0][0]']       \n",
            " )                                                                                                \n",
            "                                                                                                  \n",
            " zero_padding2d_148 (ZeroPaddin  (None, 10, 10, 64)  0           ['stage1_unit2_relu1[0][0]']     \n",
            " g2D)                                                                                             \n",
            "                                                                                                  \n",
            " stage1_unit2_conv1 (Conv2D)    (None, 8, 8, 64)     36864       ['zero_padding2d_148[0][0]']     \n",
            "                                                                                                  \n",
            " stage1_unit2_bn2 (BatchNormali  (None, 8, 8, 64)    256         ['stage1_unit2_conv1[0][0]']     \n",
            " zation)                                                                                          \n",
            "                                                                                                  \n",
            " stage1_unit2_relu2 (Activation  (None, 8, 8, 64)    0           ['stage1_unit2_bn2[0][0]']       \n",
            " )                                                                                                \n",
            "                                                                                                  \n",
            " zero_padding2d_149 (ZeroPaddin  (None, 10, 10, 64)  0           ['stage1_unit2_relu2[0][0]']     \n",
            " g2D)                                                                                             \n",
            "                                                                                                  \n",
            " stage1_unit2_conv2 (Conv2D)    (None, 8, 8, 64)     36864       ['zero_padding2d_149[0][0]']     \n",
            "                                                                                                  \n",
            " add_65 (Add)                   (None, 8, 8, 64)     0           ['stage1_unit2_conv2[0][0]',     \n",
            "                                                                  'add_64[0][0]']                 \n",
            "                                                                                                  \n",
            " stage2_unit1_bn1 (BatchNormali  (None, 8, 8, 64)    256         ['add_65[0][0]']                 \n",
            " zation)                                                                                          \n",
            "                                                                                                  \n",
            " stage2_unit1_relu1 (Activation  (None, 8, 8, 64)    0           ['stage2_unit1_bn1[0][0]']       \n",
            " )                                                                                                \n",
            "                                                                                                  \n",
            " zero_padding2d_150 (ZeroPaddin  (None, 10, 10, 64)  0           ['stage2_unit1_relu1[0][0]']     \n",
            " g2D)                                                                                             \n",
            "                                                                                                  \n",
            " stage2_unit1_conv1 (Conv2D)    (None, 4, 4, 128)    73728       ['zero_padding2d_150[0][0]']     \n",
            "                                                                                                  \n",
            " stage2_unit1_bn2 (BatchNormali  (None, 4, 4, 128)   512         ['stage2_unit1_conv1[0][0]']     \n",
            " zation)                                                                                          \n",
            "                                                                                                  \n",
            " stage2_unit1_relu2 (Activation  (None, 4, 4, 128)   0           ['stage2_unit1_bn2[0][0]']       \n",
            " )                                                                                                \n",
            "                                                                                                  \n",
            " zero_padding2d_151 (ZeroPaddin  (None, 6, 6, 128)   0           ['stage2_unit1_relu2[0][0]']     \n",
            " g2D)                                                                                             \n",
            "                                                                                                  \n",
            " stage2_unit1_conv2 (Conv2D)    (None, 4, 4, 128)    147456      ['zero_padding2d_151[0][0]']     \n",
            "                                                                                                  \n",
            " stage2_unit1_sc (Conv2D)       (None, 4, 4, 128)    8192        ['stage2_unit1_relu1[0][0]']     \n",
            "                                                                                                  \n",
            " add_66 (Add)                   (None, 4, 4, 128)    0           ['stage2_unit1_conv2[0][0]',     \n",
            "                                                                  'stage2_unit1_sc[0][0]']        \n",
            "                                                                                                  \n",
            " stage2_unit2_bn1 (BatchNormali  (None, 4, 4, 128)   512         ['add_66[0][0]']                 \n",
            " zation)                                                                                          \n",
            "                                                                                                  \n",
            " stage2_unit2_relu1 (Activation  (None, 4, 4, 128)   0           ['stage2_unit2_bn1[0][0]']       \n",
            " )                                                                                                \n",
            "                                                                                                  \n",
            " zero_padding2d_152 (ZeroPaddin  (None, 6, 6, 128)   0           ['stage2_unit2_relu1[0][0]']     \n",
            " g2D)                                                                                             \n",
            "                                                                                                  \n",
            " stage2_unit2_conv1 (Conv2D)    (None, 4, 4, 128)    147456      ['zero_padding2d_152[0][0]']     \n",
            "                                                                                                  \n",
            " stage2_unit2_bn2 (BatchNormali  (None, 4, 4, 128)   512         ['stage2_unit2_conv1[0][0]']     \n",
            " zation)                                                                                          \n",
            "                                                                                                  \n",
            " stage2_unit2_relu2 (Activation  (None, 4, 4, 128)   0           ['stage2_unit2_bn2[0][0]']       \n",
            " )                                                                                                \n",
            "                                                                                                  \n",
            " zero_padding2d_153 (ZeroPaddin  (None, 6, 6, 128)   0           ['stage2_unit2_relu2[0][0]']     \n",
            " g2D)                                                                                             \n",
            "                                                                                                  \n",
            " stage2_unit2_conv2 (Conv2D)    (None, 4, 4, 128)    147456      ['zero_padding2d_153[0][0]']     \n",
            "                                                                                                  \n",
            " add_67 (Add)                   (None, 4, 4, 128)    0           ['stage2_unit2_conv2[0][0]',     \n",
            "                                                                  'add_66[0][0]']                 \n",
            "                                                                                                  \n",
            " stage3_unit1_bn1 (BatchNormali  (None, 4, 4, 128)   512         ['add_67[0][0]']                 \n",
            " zation)                                                                                          \n",
            "                                                                                                  \n",
            " stage3_unit1_relu1 (Activation  (None, 4, 4, 128)   0           ['stage3_unit1_bn1[0][0]']       \n",
            " )                                                                                                \n",
            "                                                                                                  \n",
            " zero_padding2d_154 (ZeroPaddin  (None, 6, 6, 128)   0           ['stage3_unit1_relu1[0][0]']     \n",
            " g2D)                                                                                             \n",
            "                                                                                                  \n",
            " stage3_unit1_conv1 (Conv2D)    (None, 2, 2, 256)    294912      ['zero_padding2d_154[0][0]']     \n",
            "                                                                                                  \n",
            " stage3_unit1_bn2 (BatchNormali  (None, 2, 2, 256)   1024        ['stage3_unit1_conv1[0][0]']     \n",
            " zation)                                                                                          \n",
            "                                                                                                  \n",
            " stage3_unit1_relu2 (Activation  (None, 2, 2, 256)   0           ['stage3_unit1_bn2[0][0]']       \n",
            " )                                                                                                \n",
            "                                                                                                  \n",
            " zero_padding2d_155 (ZeroPaddin  (None, 4, 4, 256)   0           ['stage3_unit1_relu2[0][0]']     \n",
            " g2D)                                                                                             \n",
            "                                                                                                  \n",
            " stage3_unit1_conv2 (Conv2D)    (None, 2, 2, 256)    589824      ['zero_padding2d_155[0][0]']     \n",
            "                                                                                                  \n",
            " stage3_unit1_sc (Conv2D)       (None, 2, 2, 256)    32768       ['stage3_unit1_relu1[0][0]']     \n",
            "                                                                                                  \n",
            " add_68 (Add)                   (None, 2, 2, 256)    0           ['stage3_unit1_conv2[0][0]',     \n",
            "                                                                  'stage3_unit1_sc[0][0]']        \n",
            "                                                                                                  \n",
            " stage3_unit2_bn1 (BatchNormali  (None, 2, 2, 256)   1024        ['add_68[0][0]']                 \n",
            " zation)                                                                                          \n",
            "                                                                                                  \n",
            " stage3_unit2_relu1 (Activation  (None, 2, 2, 256)   0           ['stage3_unit2_bn1[0][0]']       \n",
            " )                                                                                                \n",
            "                                                                                                  \n",
            " zero_padding2d_156 (ZeroPaddin  (None, 4, 4, 256)   0           ['stage3_unit2_relu1[0][0]']     \n",
            " g2D)                                                                                             \n",
            "                                                                                                  \n",
            " stage3_unit2_conv1 (Conv2D)    (None, 2, 2, 256)    589824      ['zero_padding2d_156[0][0]']     \n",
            "                                                                                                  \n",
            " stage3_unit2_bn2 (BatchNormali  (None, 2, 2, 256)   1024        ['stage3_unit2_conv1[0][0]']     \n",
            " zation)                                                                                          \n",
            "                                                                                                  \n",
            " stage3_unit2_relu2 (Activation  (None, 2, 2, 256)   0           ['stage3_unit2_bn2[0][0]']       \n",
            " )                                                                                                \n",
            "                                                                                                  \n",
            " zero_padding2d_157 (ZeroPaddin  (None, 4, 4, 256)   0           ['stage3_unit2_relu2[0][0]']     \n",
            " g2D)                                                                                             \n",
            "                                                                                                  \n",
            " stage3_unit2_conv2 (Conv2D)    (None, 2, 2, 256)    589824      ['zero_padding2d_157[0][0]']     \n",
            "                                                                                                  \n",
            " add_69 (Add)                   (None, 2, 2, 256)    0           ['stage3_unit2_conv2[0][0]',     \n",
            "                                                                  'add_68[0][0]']                 \n",
            "                                                                                                  \n",
            " stage4_unit1_bn1 (BatchNormali  (None, 2, 2, 256)   1024        ['add_69[0][0]']                 \n",
            " zation)                                                                                          \n",
            "                                                                                                  \n",
            " stage4_unit1_relu1 (Activation  (None, 2, 2, 256)   0           ['stage4_unit1_bn1[0][0]']       \n",
            " )                                                                                                \n",
            "                                                                                                  \n",
            " zero_padding2d_158 (ZeroPaddin  (None, 4, 4, 256)   0           ['stage4_unit1_relu1[0][0]']     \n",
            " g2D)                                                                                             \n",
            "                                                                                                  \n",
            " stage4_unit1_conv1 (Conv2D)    (None, 1, 1, 512)    1179648     ['zero_padding2d_158[0][0]']     \n",
            "                                                                                                  \n",
            " stage4_unit1_bn2 (BatchNormali  (None, 1, 1, 512)   2048        ['stage4_unit1_conv1[0][0]']     \n",
            " zation)                                                                                          \n",
            "                                                                                                  \n",
            " stage4_unit1_relu2 (Activation  (None, 1, 1, 512)   0           ['stage4_unit1_bn2[0][0]']       \n",
            " )                                                                                                \n",
            "                                                                                                  \n",
            " zero_padding2d_159 (ZeroPaddin  (None, 3, 3, 512)   0           ['stage4_unit1_relu2[0][0]']     \n",
            " g2D)                                                                                             \n",
            "                                                                                                  \n",
            " stage4_unit1_conv2 (Conv2D)    (None, 1, 1, 512)    2359296     ['zero_padding2d_159[0][0]']     \n",
            "                                                                                                  \n",
            " stage4_unit1_sc (Conv2D)       (None, 1, 1, 512)    131072      ['stage4_unit1_relu1[0][0]']     \n",
            "                                                                                                  \n",
            " add_70 (Add)                   (None, 1, 1, 512)    0           ['stage4_unit1_conv2[0][0]',     \n",
            "                                                                  'stage4_unit1_sc[0][0]']        \n",
            "                                                                                                  \n",
            " stage4_unit2_bn1 (BatchNormali  (None, 1, 1, 512)   2048        ['add_70[0][0]']                 \n",
            " zation)                                                                                          \n",
            "                                                                                                  \n",
            " stage4_unit2_relu1 (Activation  (None, 1, 1, 512)   0           ['stage4_unit2_bn1[0][0]']       \n",
            " )                                                                                                \n",
            "                                                                                                  \n",
            " zero_padding2d_160 (ZeroPaddin  (None, 3, 3, 512)   0           ['stage4_unit2_relu1[0][0]']     \n",
            " g2D)                                                                                             \n",
            "                                                                                                  \n",
            " stage4_unit2_conv1 (Conv2D)    (None, 1, 1, 512)    2359296     ['zero_padding2d_160[0][0]']     \n",
            "                                                                                                  \n",
            " stage4_unit2_bn2 (BatchNormali  (None, 1, 1, 512)   2048        ['stage4_unit2_conv1[0][0]']     \n",
            " zation)                                                                                          \n",
            "                                                                                                  \n",
            " stage4_unit2_relu2 (Activation  (None, 1, 1, 512)   0           ['stage4_unit2_bn2[0][0]']       \n",
            " )                                                                                                \n",
            "                                                                                                  \n",
            " zero_padding2d_161 (ZeroPaddin  (None, 3, 3, 512)   0           ['stage4_unit2_relu2[0][0]']     \n",
            " g2D)                                                                                             \n",
            "                                                                                                  \n",
            " stage4_unit2_conv2 (Conv2D)    (None, 1, 1, 512)    2359296     ['zero_padding2d_161[0][0]']     \n",
            "                                                                                                  \n",
            " add_71 (Add)                   (None, 1, 1, 512)    0           ['stage4_unit2_conv2[0][0]',     \n",
            "                                                                  'add_70[0][0]']                 \n",
            "                                                                                                  \n",
            " bn1 (BatchNormalization)       (None, 1, 1, 512)    2048        ['add_71[0][0]']                 \n",
            "                                                                                                  \n",
            " relu1 (Activation)             (None, 1, 1, 512)    0           ['bn1[0][0]']                    \n",
            "                                                                                                  \n",
            " Global (GlobalAveragePooling2D  (None, 512)         0           ['relu1[0][0]']                  \n",
            " )                                                                                                \n",
            "                                                                                                  \n",
            "==================================================================================================\n",
            "Total params: 11,186,889\n",
            "Trainable params: 11,178,947\n",
            "Non-trainable params: 7,942\n",
            "__________________________________________________________________________________________________\n"
          ]
        }
      ]
    },
    {
      "cell_type": "code",
      "source": [
        "X_train_ResNet = model_ResNet.predict(X_train)\n",
        "X_test_ResNet = model_ResNet.predict(X_test)"
      ],
      "metadata": {
        "id": "2TNbR3KPXnw9"
      },
      "execution_count": null,
      "outputs": []
    },
    {
      "cell_type": "code",
      "source": [
        "X_test_ResNet.shape, X_test.shape"
      ],
      "metadata": {
        "colab": {
          "base_uri": "https://localhost:8080/"
        },
        "id": "izpQW7D8YEz2",
        "outputId": "d24a9ebf-b557-43c9-9f60-52924d57a876"
      },
      "execution_count": null,
      "outputs": [
        {
          "output_type": "execute_result",
          "data": {
            "text/plain": [
              "((4426, 512), (4426, 32, 32, 3))"
            ]
          },
          "metadata": {},
          "execution_count": 76
        }
      ]
    },
    {
      "cell_type": "code",
      "source": [
        "clf = SVC(C=10)\n",
        "clf.fit(X_train_ResNet, y_train)\n",
        "y_pred = clf.predict(X_test_ResNet)"
      ],
      "metadata": {
        "id": "Wu6sH8WQYYxI"
      },
      "execution_count": null,
      "outputs": []
    },
    {
      "cell_type": "code",
      "source": [
        "accuracy_score(y_test, y_pred) # Sem treinar a ResNet antes -> 0.7040216900135563"
      ],
      "metadata": {
        "colab": {
          "base_uri": "https://localhost:8080/"
        },
        "id": "uBq4HYFrY6iU",
        "outputId": "3e04cbb9-490b-46d0-b958-02eb1421ddea"
      },
      "execution_count": null,
      "outputs": [
        {
          "output_type": "execute_result",
          "data": {
            "text/plain": [
              "0.9396746497966562"
            ]
          },
          "metadata": {},
          "execution_count": 95
        }
      ]
    },
    {
      "cell_type": "code",
      "source": [
        "precision_score(y_test, y_pred, average=\"macro\")"
      ],
      "metadata": {
        "colab": {
          "base_uri": "https://localhost:8080/"
        },
        "id": "NYQ-YdObab1g",
        "outputId": "85353272-d5c6-4abe-99eb-16fa27a5064c"
      },
      "execution_count": null,
      "outputs": [
        {
          "output_type": "execute_result",
          "data": {
            "text/plain": [
              "0.9335568247980967"
            ]
          },
          "metadata": {},
          "execution_count": 97
        }
      ]
    },
    {
      "cell_type": "code",
      "source": [
        "recall_score(y_test, y_pred, average=\"macro\")"
      ],
      "metadata": {
        "colab": {
          "base_uri": "https://localhost:8080/"
        },
        "id": "txz1Kpk6atYA",
        "outputId": "51fc8f9c-63a9-45be-cfb6-0ec159c47fa4"
      },
      "execution_count": null,
      "outputs": [
        {
          "output_type": "execute_result",
          "data": {
            "text/plain": [
              "0.9318769708171947"
            ]
          },
          "metadata": {},
          "execution_count": 98
        }
      ]
    },
    {
      "cell_type": "code",
      "source": [
        "f1_score(y_test, y_pred, average=\"macro\")"
      ],
      "metadata": {
        "colab": {
          "base_uri": "https://localhost:8080/"
        },
        "id": "Ra-sDLksazYS",
        "outputId": "9315b7b7-511d-4f14-eb8a-995f2bd7b5bf"
      },
      "execution_count": null,
      "outputs": [
        {
          "output_type": "execute_result",
          "data": {
            "text/plain": [
              "0.9326783680661146"
            ]
          },
          "metadata": {},
          "execution_count": 99
        }
      ]
    },
    {
      "cell_type": "code",
      "source": [
        "lista_labels = [\"basophil\", \"eosinophil\", \"erythroblast\", \"ig\", \"lymphocyte\", \"monocyte\", \"neutrophil\"]"
      ],
      "metadata": {
        "id": "AEKl89wIcBAd"
      },
      "execution_count": null,
      "outputs": []
    },
    {
      "cell_type": "code",
      "source": [
        "confusion_matrix(y_test, y_pred)"
      ],
      "metadata": {
        "id": "yHA3_bo-7xs5",
        "outputId": "d361f4b7-b55f-44bb-f81d-84fc1846782b",
        "colab": {
          "base_uri": "https://localhost:8080/"
        }
      },
      "execution_count": null,
      "outputs": [
        {
          "output_type": "execute_result",
          "data": {
            "text/plain": [
              "array([[333,   0,   0,  27,   2,   3,   1],\n",
              "       [  1, 930,   0,   1,   0,   0,   3],\n",
              "       [  0,   0, 437,  10,  13,   2,   4],\n",
              "       [ 22,   1,   9, 775,   5,  36,  21],\n",
              "       [  2,   0,   6,  12, 338,   6,   1],\n",
              "       [  4,   0,   0,  32,   5, 383,   2],\n",
              "       [  3,   3,   2,  27,   0,   1, 963]])"
            ]
          },
          "metadata": {},
          "execution_count": 101
        }
      ]
    },
    {
      "cell_type": "markdown",
      "source": [
        ""
      ],
      "metadata": {
        "id": "I7P2AEyK7wcg"
      }
    },
    {
      "cell_type": "code",
      "source": [
        "import seaborn as sns\n",
        "plt.figure(figsize=(12, 8))\n",
        "sns.heatmap(confusion_matrix(y_test, y_pred), xticklabels=lista_labels, yticklabels=lista_labels, annot=True, fmt=\"d\", square=True)"
      ],
      "metadata": {
        "colab": {
          "base_uri": "https://localhost:8080/",
          "height": 500
        },
        "id": "jDEI9eEZaxAE",
        "outputId": "d268eada-11fb-4ed9-ca4e-629f252e6fa7"
      },
      "execution_count": null,
      "outputs": [
        {
          "output_type": "execute_result",
          "data": {
            "text/plain": [
              "<matplotlib.axes._subplots.AxesSubplot at 0x7f83bfb50f10>"
            ]
          },
          "metadata": {},
          "execution_count": 104
        },
        {
          "output_type": "display_data",
          "data": {
            "text/plain": [
              "<Figure size 864x576 with 2 Axes>"
            ],
            "image/png": "[encoded data removed]"
          },
          "metadata": {
            "needs_background": "light"
          }
        }
      ]
    }
  ]
}
